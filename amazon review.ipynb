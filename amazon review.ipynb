{
  "cells": [
    {
      "cell_type": "code",
      "execution_count": null,
      "metadata": {
        "colab": {
          "base_uri": "https://localhost:8080/"
        },
        "id": "JOGn23iMsDqR",
        "outputId": "53606678-267f-4844-d875-17cd2ae89ee4"
      },
      "outputs": [
        {
          "name": "stdout",
          "output_type": "stream",
          "text": [
            "Mounted at /content/drive\n"
          ]
        }
      ],
      "source": [
        "from google.colab import drive\n",
        "drive.mount('/content/drive')"
      ]
    },
    {
      "cell_type": "code",
      "execution_count": null,
      "metadata": {
        "id": "zTwpUS0yr-eF"
      },
      "outputs": [],
      "source": [
        "import pandas as pd\n",
        "import numpy as np\n",
        "import matplotlib.pyplot as plt\n",
        "\n",
        "from sklearn.model_selection import GridSearchCV\n",
        "from sklearn.pipeline import Pipeline\n",
        "from sklearn.model_selection import train_test_split\n",
        "from sklearn.feature_extraction.text import TfidfVectorizer\n",
        "from sklearn.linear_model import LogisticRegression\n",
        "from sklearn.svm import SVC\n",
        "from sklearn.neighbors import KNeighborsClassifier\n",
        "from sklearn.naive_bayes import MultinomialNB\n",
        "from sklearn.linear_model import LogisticRegression\n",
        "from sklearn.metrics import confusion_matrix, classification_report\n",
        "from sklearn.model_selection import cross_val_score, StratifiedKFold\n",
        "from sklearn.feature_extraction.text import CountVectorizer\n"
      ]
    },
    {
      "cell_type": "code",
      "execution_count": null,
      "metadata": {
        "id": "YQnGbu43r-eI"
      },
      "outputs": [],
      "source": [
        "train = pd.read_csv('/content/drive/MyDrive/train.csv')\n",
        "train = train.sample(n=10000)\n"
      ]
    },
    {
      "cell_type": "markdown",
      "metadata": {
        "id": "-lfIqrggQmCj"
      },
      "source": [
        "# Data Exploration and Visualization"
      ]
    },
    {
      "cell_type": "code",
      "execution_count": null,
      "metadata": {
        "colab": {
          "base_uri": "https://localhost:8080/",
          "height": 206
        },
        "id": "Kn0MJ8JRr-eJ",
        "outputId": "23e3e486-157f-40ee-f450-a96e5acae4ef"
      },
      "outputs": [
        {
          "data": {
            "text/html": [
              "\n",
              "  <div id=\"df-a7d592a2-f89d-4f9a-953a-ede427cab4d7\">\n",
              "    <div class=\"colab-df-container\">\n",
              "      <div>\n",
              "<style scoped>\n",
              "    .dataframe tbody tr th:only-of-type {\n",
              "        vertical-align: middle;\n",
              "    }\n",
              "\n",
              "    .dataframe tbody tr th {\n",
              "        vertical-align: top;\n",
              "    }\n",
              "\n",
              "    .dataframe thead th {\n",
              "        text-align: right;\n",
              "    }\n",
              "</style>\n",
              "<table border=\"1\" class=\"dataframe\">\n",
              "  <thead>\n",
              "    <tr style=\"text-align: right;\">\n",
              "      <th></th>\n",
              "      <th>overall</th>\n",
              "      <th>Review</th>\n",
              "    </tr>\n",
              "  </thead>\n",
              "  <tbody>\n",
              "    <tr>\n",
              "      <th>159532</th>\n",
              "      <td>5</td>\n",
              "      <td>I have many calibers, and I only have this kit...</td>\n",
              "    </tr>\n",
              "    <tr>\n",
              "      <th>139293</th>\n",
              "      <td>4</td>\n",
              "      <td>I really like these rain pants. I have to driv...</td>\n",
              "    </tr>\n",
              "    <tr>\n",
              "      <th>213644</th>\n",
              "      <td>5</td>\n",
              "      <td>Love the mouth grip.  It holds the whistle com...</td>\n",
              "    </tr>\n",
              "    <tr>\n",
              "      <th>198638</th>\n",
              "      <td>4</td>\n",
              "      <td>I bought this after owning a strada wireless (...</td>\n",
              "    </tr>\n",
              "    <tr>\n",
              "      <th>5370</th>\n",
              "      <td>5</td>\n",
              "      <td>This is a great call for the money and Foxpro ...</td>\n",
              "    </tr>\n",
              "  </tbody>\n",
              "</table>\n",
              "</div>\n",
              "      <button class=\"colab-df-convert\" onclick=\"convertToInteractive('df-a7d592a2-f89d-4f9a-953a-ede427cab4d7')\"\n",
              "              title=\"Convert this dataframe to an interactive table.\"\n",
              "              style=\"display:none;\">\n",
              "        \n",
              "  <svg xmlns=\"http://www.w3.org/2000/svg\" height=\"24px\"viewBox=\"0 0 24 24\"\n",
              "       width=\"24px\">\n",
              "    <path d=\"M0 0h24v24H0V0z\" fill=\"none\"/>\n",
              "    <path d=\"M18.56 5.44l.94 2.06.94-2.06 2.06-.94-2.06-.94-.94-2.06-.94 2.06-2.06.94zm-11 1L8.5 8.5l.94-2.06 2.06-.94-2.06-.94L8.5 2.5l-.94 2.06-2.06.94zm10 10l.94 2.06.94-2.06 2.06-.94-2.06-.94-.94-2.06-.94 2.06-2.06.94z\"/><path d=\"M17.41 7.96l-1.37-1.37c-.4-.4-.92-.59-1.43-.59-.52 0-1.04.2-1.43.59L10.3 9.45l-7.72 7.72c-.78.78-.78 2.05 0 2.83L4 21.41c.39.39.9.59 1.41.59.51 0 1.02-.2 1.41-.59l7.78-7.78 2.81-2.81c.8-.78.8-2.07 0-2.86zM5.41 20L4 18.59l7.72-7.72 1.47 1.35L5.41 20z\"/>\n",
              "  </svg>\n",
              "      </button>\n",
              "      \n",
              "  <style>\n",
              "    .colab-df-container {\n",
              "      display:flex;\n",
              "      flex-wrap:wrap;\n",
              "      gap: 12px;\n",
              "    }\n",
              "\n",
              "    .colab-df-convert {\n",
              "      background-color: #E8F0FE;\n",
              "      border: none;\n",
              "      border-radius: 50%;\n",
              "      cursor: pointer;\n",
              "      display: none;\n",
              "      fill: #1967D2;\n",
              "      height: 32px;\n",
              "      padding: 0 0 0 0;\n",
              "      width: 32px;\n",
              "    }\n",
              "\n",
              "    .colab-df-convert:hover {\n",
              "      background-color: #E2EBFA;\n",
              "      box-shadow: 0px 1px 2px rgba(60, 64, 67, 0.3), 0px 1px 3px 1px rgba(60, 64, 67, 0.15);\n",
              "      fill: #174EA6;\n",
              "    }\n",
              "\n",
              "    [theme=dark] .colab-df-convert {\n",
              "      background-color: #3B4455;\n",
              "      fill: #D2E3FC;\n",
              "    }\n",
              "\n",
              "    [theme=dark] .colab-df-convert:hover {\n",
              "      background-color: #434B5C;\n",
              "      box-shadow: 0px 1px 3px 1px rgba(0, 0, 0, 0.15);\n",
              "      filter: drop-shadow(0px 1px 2px rgba(0, 0, 0, 0.3));\n",
              "      fill: #FFFFFF;\n",
              "    }\n",
              "  </style>\n",
              "\n",
              "      <script>\n",
              "        const buttonEl =\n",
              "          document.querySelector('#df-a7d592a2-f89d-4f9a-953a-ede427cab4d7 button.colab-df-convert');\n",
              "        buttonEl.style.display =\n",
              "          google.colab.kernel.accessAllowed ? 'block' : 'none';\n",
              "\n",
              "        async function convertToInteractive(key) {\n",
              "          const element = document.querySelector('#df-a7d592a2-f89d-4f9a-953a-ede427cab4d7');\n",
              "          const dataTable =\n",
              "            await google.colab.kernel.invokeFunction('convertToInteractive',\n",
              "                                                     [key], {});\n",
              "          if (!dataTable) return;\n",
              "\n",
              "          const docLinkHtml = 'Like what you see? Visit the ' +\n",
              "            '<a target=\"_blank\" href=https://colab.research.google.com/notebooks/data_table.ipynb>data table notebook</a>'\n",
              "            + ' to learn more about interactive tables.';\n",
              "          element.innerHTML = '';\n",
              "          dataTable['output_type'] = 'display_data';\n",
              "          await google.colab.output.renderOutput(dataTable, element);\n",
              "          const docLink = document.createElement('div');\n",
              "          docLink.innerHTML = docLinkHtml;\n",
              "          element.appendChild(docLink);\n",
              "        }\n",
              "      </script>\n",
              "    </div>\n",
              "  </div>\n",
              "  "
            ],
            "text/plain": [
              "        overall                                             Review\n",
              "159532        5  I have many calibers, and I only have this kit...\n",
              "139293        4  I really like these rain pants. I have to driv...\n",
              "213644        5  Love the mouth grip.  It holds the whistle com...\n",
              "198638        4  I bought this after owning a strada wireless (...\n",
              "5370          5  This is a great call for the money and Foxpro ..."
            ]
          },
          "execution_count": 8,
          "metadata": {},
          "output_type": "execute_result"
        }
      ],
      "source": [
        "train.head()"
      ]
    },
    {
      "cell_type": "code",
      "execution_count": null,
      "metadata": {
        "colab": {
          "base_uri": "https://localhost:8080/",
          "height": 300
        },
        "id": "AsZr_aAbr-eJ",
        "outputId": "525eddb3-6b95-4830-9e91-61ff63af6147"
      },
      "outputs": [
        {
          "data": {
            "text/html": [
              "\n",
              "  <div id=\"df-3e048ce8-42fa-43b2-991c-3ef897da01a4\">\n",
              "    <div class=\"colab-df-container\">\n",
              "      <div>\n",
              "<style scoped>\n",
              "    .dataframe tbody tr th:only-of-type {\n",
              "        vertical-align: middle;\n",
              "    }\n",
              "\n",
              "    .dataframe tbody tr th {\n",
              "        vertical-align: top;\n",
              "    }\n",
              "\n",
              "    .dataframe thead th {\n",
              "        text-align: right;\n",
              "    }\n",
              "</style>\n",
              "<table border=\"1\" class=\"dataframe\">\n",
              "  <thead>\n",
              "    <tr style=\"text-align: right;\">\n",
              "      <th></th>\n",
              "      <th>overall</th>\n",
              "    </tr>\n",
              "  </thead>\n",
              "  <tbody>\n",
              "    <tr>\n",
              "      <th>count</th>\n",
              "      <td>10000.000000</td>\n",
              "    </tr>\n",
              "    <tr>\n",
              "      <th>mean</th>\n",
              "      <td>4.390300</td>\n",
              "    </tr>\n",
              "    <tr>\n",
              "      <th>std</th>\n",
              "      <td>0.983088</td>\n",
              "    </tr>\n",
              "    <tr>\n",
              "      <th>min</th>\n",
              "      <td>1.000000</td>\n",
              "    </tr>\n",
              "    <tr>\n",
              "      <th>25%</th>\n",
              "      <td>4.000000</td>\n",
              "    </tr>\n",
              "    <tr>\n",
              "      <th>50%</th>\n",
              "      <td>5.000000</td>\n",
              "    </tr>\n",
              "    <tr>\n",
              "      <th>75%</th>\n",
              "      <td>5.000000</td>\n",
              "    </tr>\n",
              "    <tr>\n",
              "      <th>max</th>\n",
              "      <td>5.000000</td>\n",
              "    </tr>\n",
              "  </tbody>\n",
              "</table>\n",
              "</div>\n",
              "      <button class=\"colab-df-convert\" onclick=\"convertToInteractive('df-3e048ce8-42fa-43b2-991c-3ef897da01a4')\"\n",
              "              title=\"Convert this dataframe to an interactive table.\"\n",
              "              style=\"display:none;\">\n",
              "        \n",
              "  <svg xmlns=\"http://www.w3.org/2000/svg\" height=\"24px\"viewBox=\"0 0 24 24\"\n",
              "       width=\"24px\">\n",
              "    <path d=\"M0 0h24v24H0V0z\" fill=\"none\"/>\n",
              "    <path d=\"M18.56 5.44l.94 2.06.94-2.06 2.06-.94-2.06-.94-.94-2.06-.94 2.06-2.06.94zm-11 1L8.5 8.5l.94-2.06 2.06-.94-2.06-.94L8.5 2.5l-.94 2.06-2.06.94zm10 10l.94 2.06.94-2.06 2.06-.94-2.06-.94-.94-2.06-.94 2.06-2.06.94z\"/><path d=\"M17.41 7.96l-1.37-1.37c-.4-.4-.92-.59-1.43-.59-.52 0-1.04.2-1.43.59L10.3 9.45l-7.72 7.72c-.78.78-.78 2.05 0 2.83L4 21.41c.39.39.9.59 1.41.59.51 0 1.02-.2 1.41-.59l7.78-7.78 2.81-2.81c.8-.78.8-2.07 0-2.86zM5.41 20L4 18.59l7.72-7.72 1.47 1.35L5.41 20z\"/>\n",
              "  </svg>\n",
              "      </button>\n",
              "      \n",
              "  <style>\n",
              "    .colab-df-container {\n",
              "      display:flex;\n",
              "      flex-wrap:wrap;\n",
              "      gap: 12px;\n",
              "    }\n",
              "\n",
              "    .colab-df-convert {\n",
              "      background-color: #E8F0FE;\n",
              "      border: none;\n",
              "      border-radius: 50%;\n",
              "      cursor: pointer;\n",
              "      display: none;\n",
              "      fill: #1967D2;\n",
              "      height: 32px;\n",
              "      padding: 0 0 0 0;\n",
              "      width: 32px;\n",
              "    }\n",
              "\n",
              "    .colab-df-convert:hover {\n",
              "      background-color: #E2EBFA;\n",
              "      box-shadow: 0px 1px 2px rgba(60, 64, 67, 0.3), 0px 1px 3px 1px rgba(60, 64, 67, 0.15);\n",
              "      fill: #174EA6;\n",
              "    }\n",
              "\n",
              "    [theme=dark] .colab-df-convert {\n",
              "      background-color: #3B4455;\n",
              "      fill: #D2E3FC;\n",
              "    }\n",
              "\n",
              "    [theme=dark] .colab-df-convert:hover {\n",
              "      background-color: #434B5C;\n",
              "      box-shadow: 0px 1px 3px 1px rgba(0, 0, 0, 0.15);\n",
              "      filter: drop-shadow(0px 1px 2px rgba(0, 0, 0, 0.3));\n",
              "      fill: #FFFFFF;\n",
              "    }\n",
              "  </style>\n",
              "\n",
              "      <script>\n",
              "        const buttonEl =\n",
              "          document.querySelector('#df-3e048ce8-42fa-43b2-991c-3ef897da01a4 button.colab-df-convert');\n",
              "        buttonEl.style.display =\n",
              "          google.colab.kernel.accessAllowed ? 'block' : 'none';\n",
              "\n",
              "        async function convertToInteractive(key) {\n",
              "          const element = document.querySelector('#df-3e048ce8-42fa-43b2-991c-3ef897da01a4');\n",
              "          const dataTable =\n",
              "            await google.colab.kernel.invokeFunction('convertToInteractive',\n",
              "                                                     [key], {});\n",
              "          if (!dataTable) return;\n",
              "\n",
              "          const docLinkHtml = 'Like what you see? Visit the ' +\n",
              "            '<a target=\"_blank\" href=https://colab.research.google.com/notebooks/data_table.ipynb>data table notebook</a>'\n",
              "            + ' to learn more about interactive tables.';\n",
              "          element.innerHTML = '';\n",
              "          dataTable['output_type'] = 'display_data';\n",
              "          await google.colab.output.renderOutput(dataTable, element);\n",
              "          const docLink = document.createElement('div');\n",
              "          docLink.innerHTML = docLinkHtml;\n",
              "          element.appendChild(docLink);\n",
              "        }\n",
              "      </script>\n",
              "    </div>\n",
              "  </div>\n",
              "  "
            ],
            "text/plain": [
              "            overall\n",
              "count  10000.000000\n",
              "mean       4.390300\n",
              "std        0.983088\n",
              "min        1.000000\n",
              "25%        4.000000\n",
              "50%        5.000000\n",
              "75%        5.000000\n",
              "max        5.000000"
            ]
          },
          "execution_count": 9,
          "metadata": {},
          "output_type": "execute_result"
        }
      ],
      "source": [
        "train.describe()"
      ]
    },
    {
      "cell_type": "code",
      "execution_count": null,
      "metadata": {
        "colab": {
          "base_uri": "https://localhost:8080/"
        },
        "id": "pdyhuvgmr-eJ",
        "outputId": "b0a40669-95e8-4886-95cf-a5fba840f208"
      },
      "outputs": [
        {
          "name": "stdout",
          "output_type": "stream",
          "text": [
            "<class 'pandas.core.frame.DataFrame'>\n",
            "Int64Index: 10000 entries, 159532 to 218139\n",
            "Data columns (total 2 columns):\n",
            " #   Column   Non-Null Count  Dtype \n",
            "---  ------   --------------  ----- \n",
            " 0   overall  10000 non-null  int64 \n",
            " 1   Review   10000 non-null  object\n",
            "dtypes: int64(1), object(1)\n",
            "memory usage: 234.4+ KB\n"
          ]
        }
      ],
      "source": [
        "train.info()"
      ]
    },
    {
      "cell_type": "markdown",
      "metadata": {
        "id": "t7kW_bNJRGZa"
      },
      "source": [
        "# Text Processing and Normalization"
      ]
    },
    {
      "cell_type": "code",
      "execution_count": null,
      "metadata": {
        "colab": {
          "base_uri": "https://localhost:8080/"
        },
        "id": "PNpAeon6r-eK",
        "outputId": "24b1739f-cc6e-418e-ca8b-4f75d9431980"
      },
      "outputs": [
        {
          "name": "stdout",
          "output_type": "stream",
          "text": [
            "(10000, 2)\n"
          ]
        }
      ],
      "source": [
        "df_clean = train.drop_duplicates(subset=['Review'], keep='first')   #duplicates are removed to clean the data\n",
        "df_clean = df_clean.reset_index(drop=True)\n",
        "\n",
        "print(df_clean.shape)\n"
      ]
    },
    {
      "cell_type": "code",
      "execution_count": null,
      "metadata": {
        "colab": {
          "base_uri": "https://localhost:8080/"
        },
        "id": "0yzTovsAr-eL",
        "outputId": "cbe37ada-653b-4e6e-ba09-1b3e61a5b9c7"
      },
      "outputs": [
        {
          "data": {
            "text/plain": [
              "overall                                                    5\n",
              "Review     I have many calibers, and I only have this kit...\n",
              "Name: 159532, dtype: object"
            ]
          },
          "execution_count": 12,
          "metadata": {},
          "output_type": "execute_result"
        }
      ],
      "source": [
        "train.loc[159532\t]"
      ]
    },
    {
      "cell_type": "code",
      "execution_count": null,
      "metadata": {
        "colab": {
          "base_uri": "https://localhost:8080/",
          "height": 36
        },
        "id": "ghTSqmt5r-eL",
        "outputId": "33876e39-5c49-4f1d-8eaf-d97c74fea5a2"
      },
      "outputs": [
        {
          "data": {
            "application/vnd.google.colaboratory.intrinsic+json": {
              "type": "string"
            },
            "text/plain": [
              "'I have many calibers, and I only have this kit for cleaning all of them. it can clean from handguns to rifles. Very compact. Worth every dollars The best cleaning kit to me'"
            ]
          },
          "execution_count": 13,
          "metadata": {},
          "output_type": "execute_result"
        }
      ],
      "source": [
        "train.loc[159532\t,'Review']"
      ]
    },
    {
      "cell_type": "code",
      "execution_count": null,
      "metadata": {
        "colab": {
          "base_uri": "https://localhost:8080/",
          "height": 36
        },
        "id": "xT5dlEjWr-eM",
        "outputId": "832de1c4-417c-4d8b-e9fd-634551a0ad2a"
      },
      "outputs": [
        {
          "data": {
            "application/vnd.google.colaboratory.intrinsic+json": {
              "type": "string"
            },
            "text/plain": [
              "'I have many calibers, and I only have this kit for cleaning all of them. it can clean from handguns to rifles. Very compact. Worth every dollars The best cleaning kit to me'"
            ]
          },
          "execution_count": 14,
          "metadata": {},
          "output_type": "execute_result"
        }
      ],
      "source": [
        "\n",
        "train.loc[159532\t,'Review']"
      ]
    },
    {
      "cell_type": "markdown",
      "metadata": {
        "id": "zhu246ykSu8T"
      },
      "source": [
        "# Vector space Model and feature representation"
      ]
    },
    {
      "cell_type": "code",
      "execution_count": null,
      "metadata": {
        "id": "iAJcif09r-eM"
      },
      "outputs": [],
      "source": [
        "tfidf = TfidfVectorizer()                             #the tf-idf vectorizer is introduced and used on the X_train\n",
        "X_train = tfidf.fit_transform(train['Review'])"
      ]
    },
    {
      "cell_type": "code",
      "execution_count": null,
      "metadata": {
        "colab": {
          "base_uri": "https://localhost:8080/",
          "height": 213
        },
        "id": "ThW-Mmoor-eM",
        "outputId": "cbb16989-28f2-4e98-d228-3d63ceeb148a"
      },
      "outputs": [
        {
          "name": "stderr",
          "output_type": "stream",
          "text": [
            "/usr/local/lib/python3.9/dist-packages/sklearn/linear_model/_logistic.py:458: ConvergenceWarning: lbfgs failed to converge (status=1):\n",
            "STOP: TOTAL NO. of ITERATIONS REACHED LIMIT.\n",
            "\n",
            "Increase the number of iterations (max_iter) or scale the data as shown in:\n",
            "    https://scikit-learn.org/stable/modules/preprocessing.html\n",
            "Please also refer to the documentation for alternative solver options:\n",
            "    https://scikit-learn.org/stable/modules/linear_model.html#logistic-regression\n",
            "  n_iter_i = _check_optimize_result(\n"
          ]
        },
        {
          "data": {
            "text/html": [
              "<style>#sk-container-id-1 {color: black;background-color: white;}#sk-container-id-1 pre{padding: 0;}#sk-container-id-1 div.sk-toggleable {background-color: white;}#sk-container-id-1 label.sk-toggleable__label {cursor: pointer;display: block;width: 100%;margin-bottom: 0;padding: 0.3em;box-sizing: border-box;text-align: center;}#sk-container-id-1 label.sk-toggleable__label-arrow:before {content: \"▸\";float: left;margin-right: 0.25em;color: #696969;}#sk-container-id-1 label.sk-toggleable__label-arrow:hover:before {color: black;}#sk-container-id-1 div.sk-estimator:hover label.sk-toggleable__label-arrow:before {color: black;}#sk-container-id-1 div.sk-toggleable__content {max-height: 0;max-width: 0;overflow: hidden;text-align: left;background-color: #f0f8ff;}#sk-container-id-1 div.sk-toggleable__content pre {margin: 0.2em;color: black;border-radius: 0.25em;background-color: #f0f8ff;}#sk-container-id-1 input.sk-toggleable__control:checked~div.sk-toggleable__content {max-height: 200px;max-width: 100%;overflow: auto;}#sk-container-id-1 input.sk-toggleable__control:checked~label.sk-toggleable__label-arrow:before {content: \"▾\";}#sk-container-id-1 div.sk-estimator input.sk-toggleable__control:checked~label.sk-toggleable__label {background-color: #d4ebff;}#sk-container-id-1 div.sk-label input.sk-toggleable__control:checked~label.sk-toggleable__label {background-color: #d4ebff;}#sk-container-id-1 input.sk-hidden--visually {border: 0;clip: rect(1px 1px 1px 1px);clip: rect(1px, 1px, 1px, 1px);height: 1px;margin: -1px;overflow: hidden;padding: 0;position: absolute;width: 1px;}#sk-container-id-1 div.sk-estimator {font-family: monospace;background-color: #f0f8ff;border: 1px dotted black;border-radius: 0.25em;box-sizing: border-box;margin-bottom: 0.5em;}#sk-container-id-1 div.sk-estimator:hover {background-color: #d4ebff;}#sk-container-id-1 div.sk-parallel-item::after {content: \"\";width: 100%;border-bottom: 1px solid gray;flex-grow: 1;}#sk-container-id-1 div.sk-label:hover label.sk-toggleable__label {background-color: #d4ebff;}#sk-container-id-1 div.sk-serial::before {content: \"\";position: absolute;border-left: 1px solid gray;box-sizing: border-box;top: 0;bottom: 0;left: 50%;z-index: 0;}#sk-container-id-1 div.sk-serial {display: flex;flex-direction: column;align-items: center;background-color: white;padding-right: 0.2em;padding-left: 0.2em;position: relative;}#sk-container-id-1 div.sk-item {position: relative;z-index: 1;}#sk-container-id-1 div.sk-parallel {display: flex;align-items: stretch;justify-content: center;background-color: white;position: relative;}#sk-container-id-1 div.sk-item::before, #sk-container-id-1 div.sk-parallel-item::before {content: \"\";position: absolute;border-left: 1px solid gray;box-sizing: border-box;top: 0;bottom: 0;left: 50%;z-index: -1;}#sk-container-id-1 div.sk-parallel-item {display: flex;flex-direction: column;z-index: 1;position: relative;background-color: white;}#sk-container-id-1 div.sk-parallel-item:first-child::after {align-self: flex-end;width: 50%;}#sk-container-id-1 div.sk-parallel-item:last-child::after {align-self: flex-start;width: 50%;}#sk-container-id-1 div.sk-parallel-item:only-child::after {width: 0;}#sk-container-id-1 div.sk-dashed-wrapped {border: 1px dashed gray;margin: 0 0.4em 0.5em 0.4em;box-sizing: border-box;padding-bottom: 0.4em;background-color: white;}#sk-container-id-1 div.sk-label label {font-family: monospace;font-weight: bold;display: inline-block;line-height: 1.2em;}#sk-container-id-1 div.sk-label-container {text-align: center;}#sk-container-id-1 div.sk-container {/* jupyter's `normalize.less` sets `[hidden] { display: none; }` but bootstrap.min.css set `[hidden] { display: none !important; }` so we also need the `!important` here to be able to override the default hidden behavior on the sphinx rendered scikit-learn.org. See: https://github.com/scikit-learn/scikit-learn/issues/21755 */display: inline-block !important;position: relative;}#sk-container-id-1 div.sk-text-repr-fallback {display: none;}</style><div id=\"sk-container-id-1\" class=\"sk-top-container\"><div class=\"sk-text-repr-fallback\"><pre>LogisticRegression()</pre><b>In a Jupyter environment, please rerun this cell to show the HTML representation or trust the notebook. <br />On GitHub, the HTML representation is unable to render, please try loading this page with nbviewer.org.</b></div><div class=\"sk-container\" hidden><div class=\"sk-item\"><div class=\"sk-estimator sk-toggleable\"><input class=\"sk-toggleable__control sk-hidden--visually\" id=\"sk-estimator-id-1\" type=\"checkbox\" checked><label for=\"sk-estimator-id-1\" class=\"sk-toggleable__label sk-toggleable__label-arrow\">LogisticRegression</label><div class=\"sk-toggleable__content\"><pre>LogisticRegression()</pre></div></div></div></div></div>"
            ],
            "text/plain": [
              "LogisticRegression()"
            ]
          },
          "execution_count": 18,
          "metadata": {},
          "output_type": "execute_result"
        }
      ],
      "source": [
        "model = LogisticRegression()    #logestic regression is introduced and and run to fit the model\n",
        "model.fit(X_train, train.overall)"
      ]
    },
    {
      "cell_type": "code",
      "execution_count": null,
      "metadata": {
        "colab": {
          "base_uri": "https://localhost:8080/"
        },
        "id": "yyPfub9xr-eM",
        "outputId": "12d271fa-0b74-4e52-8778-0893471b99b8"
      },
      "outputs": [
        {
          "data": {
            "text/plain": [
              "count     10000\n",
              "unique        1\n",
              "top       False\n",
              "freq      10000\n",
              "dtype: object"
            ]
          },
          "execution_count": 19,
          "metadata": {},
          "output_type": "execute_result"
        }
      ],
      "source": [
        "train.duplicated().describe()  # one unique value of false means no duplicate values in train set\n"
      ]
    },
    {
      "cell_type": "markdown",
      "metadata": {
        "id": "enFitDj9erLj"
      },
      "source": [
        "count vectorizer"
      ]
    },
    {
      "cell_type": "code",
      "execution_count": null,
      "metadata": {
        "colab": {
          "base_uri": "https://localhost:8080/"
        },
        "id": "as7UkAJpr-eN",
        "outputId": "49270cc1-28e3-4e2f-f3ab-92808c2dd4df"
      },
      "outputs": [
        {
          "name": "stdout",
          "output_type": "stream",
          "text": [
            "SVC Mean Accuracy: 0.5852\n",
            "KNN Mean Accuracy: 0.6236\n",
            "MultinomialNB Mean Accuracy: 0.6256\n",
            "LogisticRegression Mean Accuracy: 0.6315999999999999\n"
          ]
        }
      ],
      "source": [
        "X = list(train['Review'])\n",
        "y = list(train['overall']) #dataset is split into train and test\n",
        "\n",
        "vec = CountVectorizer(stop_words='english', ngram_range=(1,1)) # the Count Vectorizer is initiated with the desired parameters, such as the range of n-grams to consider and use the stop word.\n",
        "X = vec.fit_transform(X)   #The Count Vectorizer is fit on the training set to obtain the feature vectors.\n",
        "\n",
        "crossval = StratifiedKFold(n_splits=10)\n",
        "\n",
        "\n",
        "\n",
        "models = {                      #machine learning model is trained using the feature vectors, such as a logistic regression, support vector machine, KNN and MultinomialNB.\n",
        "    'SVC' : SVC(kernel='linear', random_state=42),\n",
        "    'KNN' :KNeighborsClassifier(n_neighbors=5),\n",
        "    'MultinomialNB' : MultinomialNB(),\n",
        "    'LogisticRegression' : LogisticRegression(multi_class='multinomial', solver='lbfgs', random_state=42) \n",
        "}\n",
        "\n",
        "#print(\"Mean Accuracies Stratified KFold Cross-Validation\")\n",
        "for name, model in models.items():\n",
        "    scores = cross_val_score(model, X, y, scoring='accuracy', cv=crossval, n_jobs=-1)    # accuracy, precision are used to evaluate the performance of the model on the test set \n",
        "    print(f\"{name} Mean Accuracy: {np.mean(scores)}\")"
      ]
    },
    {
      "cell_type": "markdown",
      "metadata": {
        "id": "EiK2W3YSevlE"
      },
      "source": [
        "tf-idf vectorizer"
      ]
    },
    {
      "cell_type": "code",
      "execution_count": null,
      "metadata": {
        "colab": {
          "background_save": true,
          "base_uri": "https://localhost:8080/"
        },
        "id": "WifVvrbgr-eN",
        "outputId": "45172eaa-4950-4a67-ec64-feff378b4fd4"
      },
      "outputs": [
        {
          "name": "stdout",
          "output_type": "stream",
          "text": [
            "Mean Accuracies Stratified KFold Cross-Validation\n",
            "SVC Mean Accuracy: 0.6533\n",
            "KNN Mean Accuracy: 0.5709\n",
            "MultinomialNB Mean Accuracy: 0.6309\n",
            "LogisticRegression Mean Accuracy: 0.6497999999999999\n"
          ]
        }
      ],
      "source": [
        "X = list(train['Review'])             #Split the dataset into training and test sets.\n",
        "y = list(train['overall'])\n",
        "\n",
        "vec = TfidfVectorizer(stop_words='english', ngram_range=(1,1))  #ngram_range is the range of number of words in a sequence\n",
        "X = vec.fit_transform(X)                #Tfidf Vectorizer with the desired parameters is instantiate the\n",
        "\n",
        "crossval = StratifiedKFold(n_splits=10)\n",
        "\n",
        "models = {\n",
        "    'SVC' : SVC(kernel='linear', random_state=42),\n",
        "    'KNN' :KNeighborsClassifier(n_neighbors=5),\n",
        "    'MultinomialNB' : MultinomialNB(),\n",
        "    'LogisticRegression' : LogisticRegression(multi_class='multinomial', solver='lbfgs', random_state=42) \n",
        "}\n",
        "\n",
        "print(\"Mean Accuracies Stratified KFold Cross-Validation\")\n",
        "for name, model in models.items():\n",
        "    scores = cross_val_score(model, X, y, scoring='accuracy', cv=crossval, n_jobs=-1)\n",
        "    print(f\"{name} Mean Accuracy: {np.mean(scores)}\")"
      ]
    },
    {
      "cell_type": "code",
      "execution_count": null,
      "metadata": {
        "colab": {
          "background_save": true
        },
        "id": "f5NYLQxsr-eO"
      },
      "outputs": [],
      "source": [
        "import seaborn as sns"
      ]
    },
    {
      "cell_type": "code",
      "execution_count": null,
      "metadata": {
        "colab": {
          "background_save": true
        },
        "id": "h1ZPBjQ2r-eO"
      },
      "outputs": [],
      "source": [
        "X = list(train['Review'])\n",
        "y = list(train['overall'])\n",
        "\n",
        "# split the data into training and testing\n",
        "X_train, X_test, y_train, y_test = train_test_split(X, y, test_size = 0.2, random_state = 42)\n",
        "\n",
        "# function to get the prediction evaluation for each classifier\n",
        "def get_prediction_score(model):\n",
        "    model.fit(X_train, y_train)\n",
        "    y_pred = model.predict(X_test)\n",
        "    print(\"Classification Report of Classifier\")\n",
        "    print(classification_report(y_test, y_pred, zero_division=0))\n",
        "    print()\n",
        "    cfm = confusion_matrix(y_test, y_pred)\n",
        "    print(\"Confusion Matrix of Classifier\")\n",
        "    sns.heatmap(cfm, annot=True, fmt='g', cmap='Purples')"
      ]
    },
    {
      "cell_type": "markdown",
      "metadata": {
        "id": "teTmFNm3KGqz"
      },
      "source": [
        "# Model training, selection and hyperparameter tuning and evaluation"
      ]
    },
    {
      "cell_type": "markdown",
      "metadata": {
        "id": "eVdyj3qne2DF"
      },
      "source": [
        "SVM classifier is run along with the recall, precision, f1-score and support"
      ]
    },
    {
      "cell_type": "code",
      "execution_count": null,
      "metadata": {
        "colab": {
          "base_uri": "https://localhost:8080/",
          "height": 690
        },
        "id": "43ssBawNr-eO",
        "outputId": "11b1eae4-cdaf-4279-f061-f0ae25f97db3"
      },
      "outputs": [
        {
          "name": "stdout",
          "output_type": "stream",
          "text": [
            "Classification Report of Classifier\n",
            "              precision    recall  f1-score   support\n",
            "\n",
            "           1       0.70      0.14      0.24        49\n",
            "           2       0.00      0.00      0.00        75\n",
            "           3       0.48      0.15      0.23       162\n",
            "           4       0.46      0.21      0.29       428\n",
            "           5       0.70      0.95      0.81      1286\n",
            "\n",
            "    accuracy                           0.67      2000\n",
            "   macro avg       0.47      0.29      0.31      2000\n",
            "weighted avg       0.61      0.67      0.61      2000\n",
            "\n",
            "\n",
            "Confusion Matrix of Classifier\n"
          ]
        },
        {
          "data": {
            "image/png": "[encoded data removed]",
            "text/plain": [
              "<Figure size 640x480 with 2 Axes>"
            ]
          },
          "metadata": {},
          "output_type": "display_data"
        }
      ],
      "source": [
        "svc_pipe = Pipeline([\n",
        "      ('vect', TfidfVectorizer(stop_words='english', ngram_range=(1,1), min_df=2)),\n",
        "      ('clf', SVC(C=10, kernel='rbf', random_state=42)),\n",
        "    ])\n",
        "\n",
        "get_prediction_score(svc_pipe)"
      ]
    },
    {
      "cell_type": "code",
      "execution_count": null,
      "metadata": {
        "colab": {
          "base_uri": "https://localhost:8080/",
          "height": 423
        },
        "id": "s_u1DbtIr-eO",
        "outputId": "6edec3b3-e05b-4500-9d1a-8cea5512d0ae"
      },
      "outputs": [
        {
          "data": {
            "text/html": [
              "\n",
              "  <div id=\"df-fb31859a-fabf-49b3-a33d-c0e0b0013523\">\n",
              "    <div class=\"colab-df-container\">\n",
              "      <div>\n",
              "<style scoped>\n",
              "    .dataframe tbody tr th:only-of-type {\n",
              "        vertical-align: middle;\n",
              "    }\n",
              "\n",
              "    .dataframe tbody tr th {\n",
              "        vertical-align: top;\n",
              "    }\n",
              "\n",
              "    .dataframe thead th {\n",
              "        text-align: right;\n",
              "    }\n",
              "</style>\n",
              "<table border=\"1\" class=\"dataframe\">\n",
              "  <thead>\n",
              "    <tr style=\"text-align: right;\">\n",
              "      <th></th>\n",
              "      <th>overall</th>\n",
              "      <th>Review</th>\n",
              "    </tr>\n",
              "  </thead>\n",
              "  <tbody>\n",
              "    <tr>\n",
              "      <th>54140</th>\n",
              "      <td>5</td>\n",
              "      <td>It does what its designed for... Protect my gu...</td>\n",
              "    </tr>\n",
              "    <tr>\n",
              "      <th>176137</th>\n",
              "      <td>5</td>\n",
              "      <td>Because I ride hard and am a little heavier th...</td>\n",
              "    </tr>\n",
              "    <tr>\n",
              "      <th>107268</th>\n",
              "      <td>4</td>\n",
              "      <td>Does the job, I thought the entire interior wa...</td>\n",
              "    </tr>\n",
              "    <tr>\n",
              "      <th>17224</th>\n",
              "      <td>3</td>\n",
              "      <td>The Blackhawk Tactical Rifle Cheek Pad is OK. ...</td>\n",
              "    </tr>\n",
              "    <tr>\n",
              "      <th>159866</th>\n",
              "      <td>5</td>\n",
              "      <td>This little safe is perfect for locking up my ...</td>\n",
              "    </tr>\n",
              "    <tr>\n",
              "      <th>...</th>\n",
              "      <td>...</td>\n",
              "      <td>...</td>\n",
              "    </tr>\n",
              "    <tr>\n",
              "      <th>214296</th>\n",
              "      <td>5</td>\n",
              "      <td>I bought this tent because I wanted to slim do...</td>\n",
              "    </tr>\n",
              "    <tr>\n",
              "      <th>28645</th>\n",
              "      <td>5</td>\n",
              "      <td>These blocks are a great value and just as nic...</td>\n",
              "    </tr>\n",
              "    <tr>\n",
              "      <th>123263</th>\n",
              "      <td>3</td>\n",
              "      <td>I mounted this on the bar of my recumbent. Aft...</td>\n",
              "    </tr>\n",
              "    <tr>\n",
              "      <th>51963</th>\n",
              "      <td>5</td>\n",
              "      <td>I did my ruger american .308. Did all but barr...</td>\n",
              "    </tr>\n",
              "    <tr>\n",
              "      <th>83978</th>\n",
              "      <td>5</td>\n",
              "      <td>I purchased this along with the Fobus GL4 for ...</td>\n",
              "    </tr>\n",
              "  </tbody>\n",
              "</table>\n",
              "<p>10000 rows × 2 columns</p>\n",
              "</div>\n",
              "      <button class=\"colab-df-convert\" onclick=\"convertToInteractive('df-fb31859a-fabf-49b3-a33d-c0e0b0013523')\"\n",
              "              title=\"Convert this dataframe to an interactive table.\"\n",
              "              style=\"display:none;\">\n",
              "        \n",
              "  <svg xmlns=\"http://www.w3.org/2000/svg\" height=\"24px\"viewBox=\"0 0 24 24\"\n",
              "       width=\"24px\">\n",
              "    <path d=\"M0 0h24v24H0V0z\" fill=\"none\"/>\n",
              "    <path d=\"M18.56 5.44l.94 2.06.94-2.06 2.06-.94-2.06-.94-.94-2.06-.94 2.06-2.06.94zm-11 1L8.5 8.5l.94-2.06 2.06-.94-2.06-.94L8.5 2.5l-.94 2.06-2.06.94zm10 10l.94 2.06.94-2.06 2.06-.94-2.06-.94-.94-2.06-.94 2.06-2.06.94z\"/><path d=\"M17.41 7.96l-1.37-1.37c-.4-.4-.92-.59-1.43-.59-.52 0-1.04.2-1.43.59L10.3 9.45l-7.72 7.72c-.78.78-.78 2.05 0 2.83L4 21.41c.39.39.9.59 1.41.59.51 0 1.02-.2 1.41-.59l7.78-7.78 2.81-2.81c.8-.78.8-2.07 0-2.86zM5.41 20L4 18.59l7.72-7.72 1.47 1.35L5.41 20z\"/>\n",
              "  </svg>\n",
              "      </button>\n",
              "      \n",
              "  <style>\n",
              "    .colab-df-container {\n",
              "      display:flex;\n",
              "      flex-wrap:wrap;\n",
              "      gap: 12px;\n",
              "    }\n",
              "\n",
              "    .colab-df-convert {\n",
              "      background-color: #E8F0FE;\n",
              "      border: none;\n",
              "      border-radius: 50%;\n",
              "      cursor: pointer;\n",
              "      display: none;\n",
              "      fill: #1967D2;\n",
              "      height: 32px;\n",
              "      padding: 0 0 0 0;\n",
              "      width: 32px;\n",
              "    }\n",
              "\n",
              "    .colab-df-convert:hover {\n",
              "      background-color: #E2EBFA;\n",
              "      box-shadow: 0px 1px 2px rgba(60, 64, 67, 0.3), 0px 1px 3px 1px rgba(60, 64, 67, 0.15);\n",
              "      fill: #174EA6;\n",
              "    }\n",
              "\n",
              "    [theme=dark] .colab-df-convert {\n",
              "      background-color: #3B4455;\n",
              "      fill: #D2E3FC;\n",
              "    }\n",
              "\n",
              "    [theme=dark] .colab-df-convert:hover {\n",
              "      background-color: #434B5C;\n",
              "      box-shadow: 0px 1px 3px 1px rgba(0, 0, 0, 0.15);\n",
              "      filter: drop-shadow(0px 1px 2px rgba(0, 0, 0, 0.3));\n",
              "      fill: #FFFFFF;\n",
              "    }\n",
              "  </style>\n",
              "\n",
              "      <script>\n",
              "        const buttonEl =\n",
              "          document.querySelector('#df-fb31859a-fabf-49b3-a33d-c0e0b0013523 button.colab-df-convert');\n",
              "        buttonEl.style.display =\n",
              "          google.colab.kernel.accessAllowed ? 'block' : 'none';\n",
              "\n",
              "        async function convertToInteractive(key) {\n",
              "          const element = document.querySelector('#df-fb31859a-fabf-49b3-a33d-c0e0b0013523');\n",
              "          const dataTable =\n",
              "            await google.colab.kernel.invokeFunction('convertToInteractive',\n",
              "                                                     [key], {});\n",
              "          if (!dataTable) return;\n",
              "\n",
              "          const docLinkHtml = 'Like what you see? Visit the ' +\n",
              "            '<a target=\"_blank\" href=https://colab.research.google.com/notebooks/data_table.ipynb>data table notebook</a>'\n",
              "            + ' to learn more about interactive tables.';\n",
              "          element.innerHTML = '';\n",
              "          dataTable['output_type'] = 'display_data';\n",
              "          await google.colab.output.renderOutput(dataTable, element);\n",
              "          const docLink = document.createElement('div');\n",
              "          docLink.innerHTML = docLinkHtml;\n",
              "          element.appendChild(docLink);\n",
              "        }\n",
              "      </script>\n",
              "    </div>\n",
              "  </div>\n",
              "  "
            ],
            "text/plain": [
              "        overall                                             Review\n",
              "54140         5  It does what its designed for... Protect my gu...\n",
              "176137        5  Because I ride hard and am a little heavier th...\n",
              "107268        4  Does the job, I thought the entire interior wa...\n",
              "17224         3  The Blackhawk Tactical Rifle Cheek Pad is OK. ...\n",
              "159866        5  This little safe is perfect for locking up my ...\n",
              "...         ...                                                ...\n",
              "214296        5  I bought this tent because I wanted to slim do...\n",
              "28645         5  These blocks are a great value and just as nic...\n",
              "123263        3  I mounted this on the bar of my recumbent. Aft...\n",
              "51963         5  I did my ruger american .308. Did all but barr...\n",
              "83978         5  I purchased this along with the Fobus GL4 for ...\n",
              "\n",
              "[10000 rows x 2 columns]"
            ]
          },
          "execution_count": 19,
          "metadata": {},
          "output_type": "execute_result"
        }
      ],
      "source": [
        "train"
      ]
    },
    {
      "cell_type": "markdown",
      "metadata": {
        "id": "TqibCabXe8q1"
      },
      "source": [
        "KNN classifier is run along with the recall, precision, f1-score and support"
      ]
    },
    {
      "cell_type": "code",
      "execution_count": null,
      "metadata": {
        "colab": {
          "base_uri": "https://localhost:8080/",
          "height": 690
        },
        "id": "r36O-vspzGjU",
        "outputId": "d2b4ea80-a460-4eae-bc24-3a9f35a7b54d"
      },
      "outputs": [
        {
          "name": "stdout",
          "output_type": "stream",
          "text": [
            "Classification Report of Classifier\n",
            "              precision    recall  f1-score   support\n",
            "\n",
            "           1       0.18      0.08      0.11        49\n",
            "           2       0.00      0.00      0.00        75\n",
            "           3       0.18      0.07      0.10       162\n",
            "           4       0.26      0.19      0.22       428\n",
            "           5       0.67      0.83      0.74      1286\n",
            "\n",
            "    accuracy                           0.58      2000\n",
            "   macro avg       0.26      0.23      0.24      2000\n",
            "weighted avg       0.51      0.58      0.54      2000\n",
            "\n",
            "\n",
            "Confusion Matrix of Classifier\n"
          ]
        },
        {
          "data": {
            "image/png": "[encoded data removed]",
            "text/plain": [
              "<Figure size 640x480 with 2 Axes>"
            ]
          },
          "metadata": {},
          "output_type": "display_data"
        }
      ],
      "source": [
        "knn_pipe = Pipeline([                \n",
        "      ('vect', TfidfVectorizer(stop_words='english', ngram_range=(1,1), min_df=2)),\n",
        "      ('clf', KNeighborsClassifier(n_neighbors=5)),\n",
        "    ])\n",
        "\n",
        "get_prediction_score(knn_pipe)"
      ]
    },
    {
      "cell_type": "markdown",
      "metadata": {
        "id": "4jlVo0_mfBzo"
      },
      "source": [
        "Naive Bayes Classifier is run along with the recall, precision, f1-score and support"
      ]
    },
    {
      "cell_type": "code",
      "execution_count": null,
      "metadata": {
        "colab": {
          "base_uri": "https://localhost:8080/",
          "height": 690
        },
        "id": "gUtP4-KPtjsB",
        "outputId": "8fd5faec-a14f-40a6-b8fe-4fc9f31663ad"
      },
      "outputs": [
        {
          "name": "stdout",
          "output_type": "stream",
          "text": [
            "Classification Report of Classifier\n",
            "              precision    recall  f1-score   support\n",
            "\n",
            "           1       0.67      0.12      0.21        49\n",
            "           2       0.00      0.00      0.00        75\n",
            "           3       0.21      0.04      0.06       162\n",
            "           4       0.38      0.13      0.19       428\n",
            "           5       0.68      0.96      0.80      1286\n",
            "\n",
            "    accuracy                           0.65      2000\n",
            "   macro avg       0.39      0.25      0.25      2000\n",
            "weighted avg       0.55      0.65      0.56      2000\n",
            "\n",
            "\n",
            "Confusion Matrix of Classifier\n"
          ]
        },
        {
          "data": {
            "image/png": "[encoded data removed]",
            "text/plain": [
              "<Figure size 640x480 with 2 Axes>"
            ]
          },
          "metadata": {},
          "output_type": "display_data"
        }
      ],
      "source": [
        "naive_bayes_pipe = Pipeline([\n",
        "      ('vect', TfidfVectorizer(stop_words='english', ngram_range=(1,2), min_df=2)),\n",
        "      ('clf', MultinomialNB(alpha=0.01)),\n",
        "    ])\n",
        "\n",
        "get_prediction_score(naive_bayes_pipe)"
      ]
    },
    {
      "cell_type": "markdown",
      "source": [
        "logistic regression is run along with the recall, precision, f1-score and support"
      ],
      "metadata": {
        "id": "AYxET_5hI70f"
      }
    },
    {
      "cell_type": "code",
      "execution_count": null,
      "metadata": {
        "colab": {
          "base_uri": "https://localhost:8080/",
          "height": 829
        },
        "id": "m996DVqEtvA6",
        "outputId": "f9b1b97d-da93-47f1-f3d8-a49b0c989677"
      },
      "outputs": [
        {
          "name": "stderr",
          "output_type": "stream",
          "text": [
            "/usr/local/lib/python3.9/dist-packages/sklearn/linear_model/_logistic.py:458: ConvergenceWarning: lbfgs failed to converge (status=1):\n",
            "STOP: TOTAL NO. of ITERATIONS REACHED LIMIT.\n",
            "\n",
            "Increase the number of iterations (max_iter) or scale the data as shown in:\n",
            "    https://scikit-learn.org/stable/modules/preprocessing.html\n",
            "Please also refer to the documentation for alternative solver options:\n",
            "    https://scikit-learn.org/stable/modules/linear_model.html#logistic-regression\n",
            "  n_iter_i = _check_optimize_result(\n"
          ]
        },
        {
          "name": "stdout",
          "output_type": "stream",
          "text": [
            "Classification Report of Classifier\n",
            "              precision    recall  f1-score   support\n",
            "\n",
            "           1       0.62      0.20      0.31        49\n",
            "           2       0.33      0.03      0.05        75\n",
            "           3       0.37      0.25      0.30       162\n",
            "           4       0.39      0.32      0.35       428\n",
            "           5       0.74      0.87      0.80      1286\n",
            "\n",
            "    accuracy                           0.66      2000\n",
            "   macro avg       0.49      0.33      0.36      2000\n",
            "weighted avg       0.62      0.66      0.62      2000\n",
            "\n",
            "\n",
            "Confusion Matrix of Classifier\n"
          ]
        },
        {
          "data": {
            "image/png": "[encoded data removed]",
            "text/plain": [
              "<Figure size 640x480 with 2 Axes>"
            ]
          },
          "metadata": {},
          "output_type": "display_data"
        }
      ],
      "source": [
        "lr_pipe = Pipeline([\n",
        "      ('vect', TfidfVectorizer(stop_words='english', ngram_range=(1,1), min_df=1)),\n",
        "      ('clf', LogisticRegression(C=10, multi_class='multinomial', solver='lbfgs', random_state=42)),\n",
        "    ])\n",
        "\n",
        "get_prediction_score(lr_pipe)"
      ]
    },
    {
      "cell_type": "markdown",
      "metadata": {
        "id": "qEN1ilFf5WI4"
      },
      "source": [
        "# **5. Modeling Text as a Sequence** "
      ]
    },
    {
      "cell_type": "code",
      "execution_count": null,
      "metadata": {
        "id": "lXhwLPdnNlJS"
      },
      "outputs": [],
      "source": [
        "import pandas as pd"
      ]
    },
    {
      "cell_type": "code",
      "execution_count": null,
      "metadata": {
        "id": "oTzLH6eXe2x7"
      },
      "outputs": [],
      "source": [
        "train = pd.read_csv('/content/drive/MyDrive/train.csv')\n",
        "train_sample = train.sample(n=10000)"
      ]
    },
    {
      "cell_type": "code",
      "execution_count": null,
      "metadata": {
        "id": "Bvgd7cettk7b"
      },
      "outputs": [],
      "source": [
        "import pandas as pd\n",
        "import numpy as np\n",
        "\n",
        "import tensorflow as tf\n",
        "from tensorflow.keras.preprocessing.text import Tokenizer\n",
        "from tensorflow.keras.preprocessing.sequence import pad_sequences\n",
        "from tensorflow.keras.models import Sequential\n",
        "from tensorflow.keras.layers import Dense,Dropout, Embedding, LSTM, SpatialDropout1D, SimpleRNN,Bidirectional, Conv1D,MaxPooling1D \n",
        "from sklearn.model_selection import train_test_split\n"
      ]
    },
    {
      "cell_type": "code",
      "execution_count": null,
      "metadata": {
        "colab": {
          "base_uri": "https://localhost:8080/"
        },
        "id": "or1TKZORN0lP",
        "outputId": "445131db-ec1f-40aa-8635-0fefe28e529e"
      },
      "outputs": [
        {
          "name": "stdout",
          "output_type": "stream",
          "text": [
            "Drive already mounted at /content/drive; to attempt to forcibly remount, call drive.mount(\"/content/drive\", force_remount=True).\n"
          ]
        }
      ],
      "source": [
        "from google.colab import drive\n",
        "drive.mount('/content/drive')"
      ]
    },
    {
      "cell_type": "markdown",
      "metadata": {
        "id": "EaFOLLvOX3NR"
      },
      "source": [
        "Natural Language Processing: tokenization is a part of NLP"
      ]
    },
    {
      "cell_type": "code",
      "execution_count": null,
      "metadata": {
        "id": "0l7BKEmxtlk7"
      },
      "outputs": [],
      "source": [
        "# Tokenize the text\n",
        "tokenizer = Tokenizer(num_words=5000, lower=True)\n",
        "tokenizer.fit_on_texts(train_sample['Review'].values)\n",
        "X = tokenizer.texts_to_sequences(train_sample['Review'].values)\n",
        "X = pad_sequences(X)\n",
        "\n",
        "# Convert the target variable to a numerical format\n",
        "y = pd.get_dummies(train_sample['overall']).values\n"
      ]
    },
    {
      "cell_type": "code",
      "execution_count": null,
      "metadata": {
        "id": "LicuDJp-v92b"
      },
      "outputs": [],
      "source": [
        "#train_test_split\n",
        "X_train, X_test, y_train, y_test = train_test_split(X, y, test_size=0.2, random_state=42)   #the dataset is split into test and train"
      ]
    },
    {
      "cell_type": "markdown",
      "metadata": {
        "id": "UgP_yGN86FLX"
      },
      "source": [
        "### **Bi-Directional LSTM**"
      ]
    },
    {
      "cell_type": "code",
      "execution_count": null,
      "metadata": {
        "colab": {
          "base_uri": "https://localhost:8080/"
        },
        "id": "qKdSiFP7Yg7v",
        "outputId": "7b07be9f-b171-46ba-b30b-e4fcca702163"
      },
      "outputs": [
        {
          "name": "stdout",
          "output_type": "stream",
          "text": [
            "Epoch 1/10\n",
            "113/113 [==============================] - 65s 497ms/step - loss: 1.0718 - accuracy: 0.6351 - val_loss: 0.9336 - val_accuracy: 0.6488\n",
            "Epoch 2/10\n",
            "113/113 [==============================] - 50s 445ms/step - loss: 0.8518 - accuracy: 0.6669 - val_loss: 0.8880 - val_accuracy: 0.6612\n",
            "Epoch 3/10\n",
            "113/113 [==============================] - 45s 395ms/step - loss: 0.7350 - accuracy: 0.7032 - val_loss: 0.8972 - val_accuracy: 0.6550\n",
            "Epoch 4/10\n",
            "113/113 [==============================] - 43s 381ms/step - loss: 0.6488 - accuracy: 0.7400 - val_loss: 0.9274 - val_accuracy: 0.6225\n",
            "Epoch 5/10\n",
            "113/113 [==============================] - 42s 368ms/step - loss: 0.5812 - accuracy: 0.7671 - val_loss: 0.9910 - val_accuracy: 0.6438\n",
            "Epoch 6/10\n",
            "113/113 [==============================] - 59s 526ms/step - loss: 0.5135 - accuracy: 0.7960 - val_loss: 1.0974 - val_accuracy: 0.6388\n",
            "Epoch 7/10\n",
            "113/113 [==============================] - 41s 367ms/step - loss: 0.4540 - accuracy: 0.8199 - val_loss: 1.1130 - val_accuracy: 0.6388\n",
            "Epoch 8/10\n",
            "113/113 [==============================] - 46s 410ms/step - loss: 0.4204 - accuracy: 0.8381 - val_loss: 1.1817 - val_accuracy: 0.6025\n",
            "Epoch 9/10\n",
            "113/113 [==============================] - 38s 336ms/step - loss: 0.3777 - accuracy: 0.8532 - val_loss: 1.3779 - val_accuracy: 0.6425\n",
            "Epoch 10/10\n",
            "113/113 [==============================] - 39s 341ms/step - loss: 0.3451 - accuracy: 0.8693 - val_loss: 1.3739 - val_accuracy: 0.6250\n",
            "63/63 [==============================] - 7s 112ms/step - loss: 1.2608 - accuracy: 0.6235\n",
            "Accuracy: 62.35\n"
          ]
        }
      ],
      "source": [
        "\n",
        "# Import necessary modules and functions\n",
        "from keras.models import Sequential\n",
        "from keras.layers import Embedding, LSTM, Bidirectional, Dense, Dropout\n",
        "\n",
        "# Create a sequential model\n",
        "model = Sequential()\n",
        "\n",
        "# Add an embedding layer with 5000 as the input dimension, 32 as the output dimension, \n",
        "# and input length equal to the number of features in the input X data\n",
        "model.add(Embedding(5000, 32, input_length=X.shape[1]))\n",
        "\n",
        "# Add a bidirectional LSTM layer with 64 units and 0.2 dropout rate\n",
        "model.add(Bidirectional(LSTM(64, dropout=0.2)))\n",
        "\n",
        "# Add a dropout layer with 0.5 rate\n",
        "model.add(Dropout(0.5))\n",
        "\n",
        "# Add a dense layer with 5 units and softmax activation function\n",
        "model.add(Dense(5, activation='softmax'))\n",
        "\n",
        "# Compile the model with categorical cross-entropy loss function, adam optimizer, \n",
        "# and accuracy as the evaluation metric\n",
        "model.compile(loss='categorical_crossentropy', optimizer='adam', metrics=['accuracy'])\n",
        "\n",
        "# Fit the model to the training data with 10 epochs, batch size of 64, \n",
        "# and validation split of 0.1 (10% of training data used for validation)\n",
        "history = model.fit(X_train, y_train, epochs=10, batch_size=64, validation_split=0.1)\n",
        "\n",
        "# Evaluate the model on the test data and print the accuracy\n",
        "_, accuracy = model.evaluate(X_test, y_test)\n",
        "print('Accuracy: %.2f' % (accuracy*100))\n"
      ]
    },
    {
      "cell_type": "markdown",
      "metadata": {
        "id": "0URAM6Kc2ARB"
      },
      "source": [
        "### **1-D Convolutional Neural Network**"
      ]
    },
    {
      "cell_type": "code",
      "execution_count": null,
      "metadata": {
        "colab": {
          "base_uri": "https://localhost:8080/"
        },
        "id": "5KNDZF0JaV67",
        "outputId": "dfc92964-f1e9-4544-fd2a-115f387cc931"
      },
      "outputs": [
        {
          "name": "stderr",
          "output_type": "stream",
          "text": [
            "WARNING:tensorflow:Layer lstm_1 will not use cuDNN kernels since it doesn't meet the criteria. It will use a generic GPU kernel as fallback when running on GPU.\n"
          ]
        },
        {
          "name": "stdout",
          "output_type": "stream",
          "text": [
            "Epoch 1/10\n",
            "113/113 [==============================] - 611s 5s/step - loss: 1.0517 - accuracy: 0.6168 - val_loss: 0.9118 - val_accuracy: 0.6325\n",
            "Epoch 2/10\n",
            "113/113 [==============================] - 605s 5s/step - loss: 0.8151 - accuracy: 0.6679 - val_loss: 0.8709 - val_accuracy: 0.6388\n",
            "Epoch 3/10\n",
            "113/113 [==============================] - 595s 5s/step - loss: 0.6512 - accuracy: 0.7389 - val_loss: 0.8920 - val_accuracy: 0.6275\n",
            "Epoch 4/10\n",
            "113/113 [==============================] - 593s 5s/step - loss: 0.5230 - accuracy: 0.7986 - val_loss: 1.0006 - val_accuracy: 0.6212\n",
            "Epoch 5/10\n",
            "113/113 [==============================] - 591s 5s/step - loss: 0.4048 - accuracy: 0.8478 - val_loss: 1.1348 - val_accuracy: 0.6275\n",
            "Epoch 6/10\n",
            "113/113 [==============================] - 591s 5s/step - loss: 0.3122 - accuracy: 0.8863 - val_loss: 1.3411 - val_accuracy: 0.5863\n",
            "Epoch 7/10\n",
            "113/113 [==============================] - 596s 5s/step - loss: 0.2360 - accuracy: 0.9106 - val_loss: 1.6647 - val_accuracy: 0.5800\n",
            "Epoch 8/10\n",
            "113/113 [==============================] - 584s 5s/step - loss: 0.1732 - accuracy: 0.9396 - val_loss: 1.7115 - val_accuracy: 0.6125\n",
            "Epoch 9/10\n",
            "113/113 [==============================] - 565s 5s/step - loss: 0.1382 - accuracy: 0.9532 - val_loss: 1.8572 - val_accuracy: 0.6112\n",
            "Epoch 10/10\n",
            "113/113 [==============================] - 563s 5s/step - loss: 0.1142 - accuracy: 0.9590 - val_loss: 1.9677 - val_accuracy: 0.5987\n",
            "63/63 [==============================] - 19s 304ms/step - loss: 1.8401 - accuracy: 0.6105\n",
            "Accuracy: 61.05\n"
          ]
        }
      ],
      "source": [
        "\n",
        "\n",
        "# Import necessary modules and functions\n",
        "from keras.models import Sequential\n",
        "from keras.layers import Embedding, Conv1D, MaxPooling1D, LSTM, Dense\n",
        "\n",
        "# Create a sequential model\n",
        "model = Sequential()\n",
        "\n",
        "# Add an embedding layer with 5000 as the input dimension, 128 as the output dimension, \n",
        "# and input length equal to the number of features in the input X data\n",
        "model.add(Embedding(5000, 128, input_length=X.shape[1]))\n",
        "\n",
        "# Add a 1D convolutional layer with 64 filters, kernel size of 3, \n",
        "# 'same' padding and relu activation function\n",
        "model.add(Conv1D(64, kernel_size=3, padding='same', activation='relu'))\n",
        "\n",
        "# Add a max pooling layer with pool size of 2\n",
        "model.add(MaxPooling1D(pool_size=2))\n",
        "\n",
        "# Add an LSTM layer with 128 units and 0.2 dropout rate and recurrent dropout rate\n",
        "model.add(LSTM(128, dropout=0.2, recurrent_dropout=0.2))\n",
        "\n",
        "# Add a dense layer with 5 units and softmax activation function\n",
        "model.add(Dense(5, activation='softmax'))\n",
        "\n",
        "# Compile the model with categorical cross-entropy loss function, adam optimizer, \n",
        "# and accuracy as the evaluation metric\n",
        "model.compile(loss='categorical_crossentropy', optimizer='adam', metrics=['accuracy'])\n",
        "\n",
        "# Fit the model to the training data with 10 epochs, batch size of 64, \n",
        "# and validation split of 0.1 (10% of training data used for validation)\n",
        "history = model.fit(X_train, y_train, epochs=10, batch_size=64, validation_split=0.1)\n",
        "\n",
        "# Evaluate the model on the test data and print the accuracy\n",
        "_, accuracy = model.evaluate(X_test, y_test)\n",
        "print('Accuracy: %.2f' % (accuracy*100))\n",
        "\n"
      ]
    },
    {
      "cell_type": "markdown",
      "metadata": {
        "id": "bUfNN-7J2VTN"
      },
      "source": [
        "### **LSTM**"
      ]
    },
    {
      "cell_type": "code",
      "execution_count": null,
      "metadata": {
        "colab": {
          "base_uri": "https://localhost:8080/"
        },
        "id": "IzgusUDUbNL9",
        "outputId": "b5517dd0-b583-4424-e027-0b842318c5e0"
      },
      "outputs": [
        {
          "name": "stderr",
          "output_type": "stream",
          "text": [
            "<ipython-input-21-e62c7ac5239d>:14: FutureWarning: The default value of regex will change from True to False in a future version.\n",
            "  train_sample['text'] = train_sample['text'].str.replace('[^\\w\\s]','') # Remove punctuation\n",
            "<ipython-input-21-e62c7ac5239d>:15: FutureWarning: The default value of regex will change from True to False in a future version.\n",
            "  train_sample['text'] = train_sample['text'].str.replace('\\d+','') # Remove numbers\n",
            "WARNING:tensorflow:Layer lstm_1 will not use cuDNN kernels since it doesn't meet the criteria. It will use a generic GPU kernel as fallback when running on GPU.\n"
          ]
        },
        {
          "name": "stdout",
          "output_type": "stream",
          "text": [
            "Epoch 1/10\n",
            "113/113 [==============================] - 1204s 11s/step - loss: 0.3791 - accuracy: 0.6256 - val_loss: 0.3518 - val_accuracy: 0.6350\n",
            "Epoch 2/10\n",
            "113/113 [==============================] - 1167s 10s/step - loss: 0.3259 - accuracy: 0.6404 - val_loss: 0.3123 - val_accuracy: 0.6500\n",
            "Epoch 3/10\n",
            "113/113 [==============================] - 1157s 10s/step - loss: 0.2719 - accuracy: 0.6861 - val_loss: 0.3144 - val_accuracy: 0.6438\n",
            "Epoch 4/10\n",
            "113/113 [==============================] - 1155s 10s/step - loss: 0.2384 - accuracy: 0.7325 - val_loss: 0.3233 - val_accuracy: 0.6475\n",
            "Epoch 5/10\n",
            " 31/113 [=======>......................] - ETA: 13:45 - loss: 0.2104 - accuracy: 0.7697"
          ]
        }
      ],
      "source": [
        "\n",
        "# Import necessary modules and functions\n",
        "import pandas as pd\n",
        "import numpy as np\n",
        "from keras.utils import to_categorical\n",
        "from keras.models import Sequential\n",
        "from keras.layers import Dense, Embedding, LSTM\n",
        "from keras.preprocessing.text import Tokenizer\n",
        "from tensorflow.keras.preprocessing.sequence import pad_sequences\n",
        "from sklearn.model_selection import train_test_split\n",
        "from sklearn.preprocessing import LabelEncoder\n",
        "\n",
        "# Preprocessing\n",
        "train_sample['text'] = train_sample['Review'].apply(lambda x: x.lower()) # Convert text to lowercase\n",
        "train_sample['text'] = train_sample['text'].str.replace('[^\\w\\s]','') # Remove punctuation\n",
        "train_sample['text'] = train_sample['text'].str.replace('\\d+','') # Remove numbers\n",
        "\n",
        "# Initialize Tokenizer with maximum of 5000 words in the vocabulary\n",
        "tokenizer = Tokenizer(num_words=5000)\n",
        "\n",
        "# Fit tokenizer on the text data to generate sequences of integers representing each text\n",
        "tokenizer.fit_on_texts(train_sample['text'].values)\n",
        "\n",
        "# Convert text data into sequences of integers using the trained tokenizer\n",
        "X = tokenizer.texts_to_sequences(train_sample['text'].values)\n",
        "\n",
        "# Pad the sequences to have the same length, using the maximum length of any sequence in the dataset\n",
        "X = pad_sequences(X)\n",
        "\n",
        "# Use LabelEncoder to encode the categorical target variable into numerical values\n",
        "le = LabelEncoder()\n",
        "y = le.fit_transform(train_sample['overall'].values)\n",
        "\n",
        "# Train test split the data with 80% for training and 20% for testing\n",
        "X_train, X_test, y_train, y_test = train_test_split(X, y, test_size=0.2, random_state=42)\n",
        "\n",
        "# Convert target variable into one-hot encoded format\n",
        "y_train = to_categorical(y_train)\n",
        "y_test = to_categorical(y_test)\n",
        "\n",
        "# Define the model architecture using a Sequential model and add layers to it\n",
        "model = Sequential()\n",
        "\n",
        "# Add an embedding layer with 5000 as the input dimension, 128 as the output dimension, \n",
        "# and input length equal to the number of features in the input X data\n",
        "model.add(Embedding(5000, 128, input_length=X.shape[1]))\n",
        "\n",
        "# Add an LSTM layer with 128 units and 0.2 dropout rate and recurrent dropout rate\n",
        "model.add(LSTM(128, dropout=0.2, recurrent_dropout=0.2))\n",
        "\n",
        "# Add a dense layer with 5 units and softmax activation function\n",
        "model.add(Dense(5, activation='softmax'))\n",
        "\n",
        "# Compile the model with binary cross-entropy loss function, adam optimizer, \n",
        "# and accuracy as the evaluation metric\n",
        "model.compile(loss='binary_crossentropy', optimizer='adam', metrics=['accuracy'])\n",
        "\n",
        "# Fit the model to the training data with 10 epochs, batch size of 64, \n",
        "# and validation split of 0.1 (10% of training data used for validation)\n",
        "history = model.fit(X_train, y_train, epochs=10, batch_size=64, validation_split=0.1)\n",
        "\n",
        "# Evaluate the model on the test data and print the accuracy\n",
        "_, accuracy = model.evaluate(X_test, y_test)\n",
        "print('Accuracy: %.2f' % (accuracy*100))\n"
      ]
    },
    {
      "cell_type": "markdown",
      "metadata": {
        "id": "5KXG8Zs_2jbn"
      },
      "source": [
        "### **Recurrent Neural Network**"
      ]
    },
    {
      "cell_type": "code",
      "execution_count": null,
      "metadata": {
        "colab": {
          "base_uri": "https://localhost:8080/"
        },
        "id": "Qy_Heby5xdiJ",
        "outputId": "7827a887-9b6f-4809-8770-044e216d3ab9"
      },
      "outputs": [
        {
          "name": "stdout",
          "output_type": "stream",
          "text": [
            "Epoch 1/10\n",
            "113/113 [==============================] - 347s 3s/step - loss: 1.0673 - accuracy: 0.6250 - val_loss: 1.0489 - val_accuracy: 0.6350\n",
            "Epoch 2/10\n",
            "113/113 [==============================] - 351s 3s/step - loss: 0.9329 - accuracy: 0.6490 - val_loss: 0.9643 - val_accuracy: 0.6413\n",
            "Epoch 3/10\n",
            "113/113 [==============================] - 340s 3s/step - loss: 0.6709 - accuracy: 0.7549 - val_loss: 1.0128 - val_accuracy: 0.6388\n",
            "Epoch 4/10\n",
            "113/113 [==============================] - 336s 3s/step - loss: 0.4373 - accuracy: 0.8479 - val_loss: 1.1535 - val_accuracy: 0.6137\n",
            "Epoch 5/10\n",
            "113/113 [==============================] - 328s 3s/step - loss: 0.2600 - accuracy: 0.9192 - val_loss: 1.3215 - val_accuracy: 0.5725\n",
            "Epoch 6/10\n",
            "113/113 [==============================] - 332s 3s/step - loss: 0.6379 - accuracy: 0.7793 - val_loss: 1.1951 - val_accuracy: 0.5938\n",
            "Epoch 7/10\n",
            "113/113 [==============================] - 334s 3s/step - loss: 0.9033 - accuracy: 0.6821 - val_loss: 0.9922 - val_accuracy: 0.6413\n",
            "Epoch 8/10\n",
            "113/113 [==============================] - 329s 3s/step - loss: 0.8176 - accuracy: 0.6961 - val_loss: 0.9964 - val_accuracy: 0.6275\n",
            "Epoch 9/10\n",
            "113/113 [==============================] - 327s 3s/step - loss: 0.8382 - accuracy: 0.6864 - val_loss: 1.0340 - val_accuracy: 0.6338\n",
            "Epoch 10/10\n",
            "113/113 [==============================] - 326s 3s/step - loss: 0.8684 - accuracy: 0.6810 - val_loss: 1.1044 - val_accuracy: 0.6200\n",
            "63/63 [==============================] - 12s 197ms/step - loss: 1.0934 - accuracy: 0.6245\n",
            "Accuracy: 62.45\n"
          ]
        }
      ],
      "source": [
        " \n",
        " \n",
        " # Define the RNN model architecture\n",
        "model = Sequential()\n",
        "model.add(Embedding(5000, 128, input_length=X.shape[1]))\n",
        "model.add(SpatialDropout1D(0.4))\n",
        "model.add(SimpleRNN(128))\n",
        "model.add(Dense(5, activation='softmax'))\n",
        "\n",
        "# Compile the model and specify the loss function and optimization algorithm\n",
        "model.compile(loss='categorical_crossentropy', optimizer='adam', metrics=['accuracy'])\n",
        "\n",
        "# Train the model on the training set\n",
        "history = model.fit(X_train, y_train, epochs=10, batch_size=64, validation_split=0.1)\n",
        "\n",
        "# Evaluate the model on the testing set\n",
        "_, accuracy = model.evaluate(X_test, y_test)\n",
        "print('Accuracy: %.2f' % (accuracy*100))"
      ]
    },
    {
      "cell_type": "code",
      "execution_count": null,
      "metadata": {
        "colab": {
          "base_uri": "https://localhost:8080/",
          "height": 166
        },
        "id": "NyC_gnkhuO2a",
        "outputId": "7b60c1ec-5145-4ab6-b831-a82a3149eb0f"
      },
      "outputs": [
        {
          "ename": "NameError",
          "evalue": "ignored",
          "output_type": "error",
          "traceback": [
            "\u001b[0;31m---------------------------------------------------------------------------\u001b[0m",
            "\u001b[0;31mNameError\u001b[0m                                 Traceback (most recent call last)",
            "\u001b[0;32m<ipython-input-1-04a54d98b89a>\u001b[0m in \u001b[0;36m<cell line: 1>\u001b[0;34m()\u001b[0m\n\u001b[0;32m----> 1\u001b[0;31m \u001b[0mtest_data\u001b[0m \u001b[0;34m=\u001b[0m \u001b[0mpd\u001b[0m\u001b[0;34m.\u001b[0m\u001b[0mread_csv\u001b[0m\u001b[0;34m(\u001b[0m\u001b[0;34m'/content/drive/MyDrive/test.csv'\u001b[0m\u001b[0;34m)\u001b[0m\u001b[0;34m\u001b[0m\u001b[0;34m\u001b[0m\u001b[0m\n\u001b[0m",
            "\u001b[0;31mNameError\u001b[0m: name 'pd' is not defined"
          ]
        }
      ],
      "source": [
        "test_data = pd.read_csv('/content/drive/MyDrive/test.csv')"
      ]
    },
    {
      "cell_type": "code",
      "execution_count": null,
      "metadata": {
        "colab": {
          "base_uri": "https://localhost:8080/"
        },
        "id": "CVR144U8rjm4",
        "outputId": "9db8f8a6-4551-4612-f1f1-1a6c71959d87"
      },
      "outputs": [
        {
          "name": "stdout",
          "output_type": "stream",
          "text": [
            "2316/2316 [==============================] - 267s 115ms/step\n"
          ]
        }
      ],
      "source": [
        "# We are using BiLSTM to predict\n",
        "\n",
        "import pandas as pd\n",
        "import numpy as np\n",
        "\n",
        "\n",
        "\n",
        "# Preprocess text data for input to neural network\n",
        "from tensorflow.keras.preprocessing.text import Tokenizer\n",
        "from tensorflow.keras.preprocessing.sequence import pad_sequences\n",
        "\n",
        "# Load tokenizer and settings used to preprocess training data\n",
        "tokenizer = Tokenizer(num_words=5000)\n",
        "tokenizer.fit_on_texts(train[\"Review\"])\n",
        "maxlen = 5482 # maximum length of sequence in training data\n",
        "\n",
        "# Apply same tokenizer and padding settings to test data\n",
        "test_sequences = tokenizer.texts_to_sequences(test_data[\"Review\"])\n",
        "test_padded = pad_sequences(test_sequences, maxlen=maxlen)\n",
        "\n",
        "predictions = model.predict(test_padded)\n",
        "\n"
      ]
    },
    {
      "cell_type": "code",
      "execution_count": null,
      "metadata": {
        "id": "1ii5b3Ceu77V"
      },
      "outputs": [],
      "source": [
        "y_pred_class = np.argmax(predictions, axis=1)\n"
      ]
    },
    {
      "cell_type": "code",
      "execution_count": null,
      "metadata": {
        "id": "5oc61s_dvESh"
      },
      "outputs": [],
      "source": [
        "\n",
        "# Save predictions to a file\n",
        "np.savetxt(\"/content/drive/MyDrive/predictions.csv\", y_pred_class, delimiter=\",\")"
      ]
    },
    {
      "cell_type": "code",
      "execution_count": null,
      "metadata": {
        "id": "J88NHKoEsajV"
      },
      "outputs": [],
      "source": [
        "test_data[\"predicted_overall\"] = y_pred_class"
      ]
    },
    {
      "cell_type": "code",
      "execution_count": null,
      "metadata": {
        "colab": {
          "base_uri": "https://localhost:8080/",
          "height": 423
        },
        "id": "KECs7RbFxt1R",
        "outputId": "5526b515-a9d9-4f38-adcd-b7edddb3eeac"
      },
      "outputs": [
        {
          "data": {
            "text/html": [
              "\n",
              "  <div id=\"df-6ce118f3-65d9-4ed9-83fb-02824bd8e4d1\">\n",
              "    <div class=\"colab-df-container\">\n",
              "      <div>\n",
              "<style scoped>\n",
              "    .dataframe tbody tr th:only-of-type {\n",
              "        vertical-align: middle;\n",
              "    }\n",
              "\n",
              "    .dataframe tbody tr th {\n",
              "        vertical-align: top;\n",
              "    }\n",
              "\n",
              "    .dataframe thead th {\n",
              "        text-align: right;\n",
              "    }\n",
              "</style>\n",
              "<table border=\"1\" class=\"dataframe\">\n",
              "  <thead>\n",
              "    <tr style=\"text-align: right;\">\n",
              "      <th></th>\n",
              "      <th>id</th>\n",
              "      <th>Review</th>\n",
              "      <th>predicted_overall</th>\n",
              "    </tr>\n",
              "  </thead>\n",
              "  <tbody>\n",
              "    <tr>\n",
              "      <th>0</th>\n",
              "      <td>0</td>\n",
              "      <td>Bought for a Smith and Wesson M&amp;P15 fits perfe...</td>\n",
              "      <td>2</td>\n",
              "    </tr>\n",
              "    <tr>\n",
              "      <th>1</th>\n",
              "      <td>1</td>\n",
              "      <td>Beware of the charts listed on Butler Creek's ...</td>\n",
              "      <td>4</td>\n",
              "    </tr>\n",
              "    <tr>\n",
              "      <th>2</th>\n",
              "      <td>2</td>\n",
              "      <td>I've only used this once to sight in a scope. ...</td>\n",
              "      <td>3</td>\n",
              "    </tr>\n",
              "    <tr>\n",
              "      <th>3</th>\n",
              "      <td>3</td>\n",
              "      <td>I need more of these!!! This thing makes shoot...</td>\n",
              "      <td>4</td>\n",
              "    </tr>\n",
              "    <tr>\n",
              "      <th>4</th>\n",
              "      <td>4</td>\n",
              "      <td>Grabber Outdoors Original Space Brand Sportsma...</td>\n",
              "      <td>4</td>\n",
              "    </tr>\n",
              "    <tr>\n",
              "      <th>...</th>\n",
              "      <td>...</td>\n",
              "      <td>...</td>\n",
              "      <td>...</td>\n",
              "    </tr>\n",
              "    <tr>\n",
              "      <th>74076</th>\n",
              "      <td>74076</td>\n",
              "      <td>My first foray into the electronic  earmuff re...</td>\n",
              "      <td>4</td>\n",
              "    </tr>\n",
              "    <tr>\n",
              "      <th>74077</th>\n",
              "      <td>74077</td>\n",
              "      <td>The Callaway Hex Chrome Golf Ball is a nice pr...</td>\n",
              "      <td>4</td>\n",
              "    </tr>\n",
              "    <tr>\n",
              "      <th>74078</th>\n",
              "      <td>74078</td>\n",
              "      <td>Got these beanies for my husband and brother. ...</td>\n",
              "      <td>4</td>\n",
              "    </tr>\n",
              "    <tr>\n",
              "      <th>74079</th>\n",
              "      <td>74079</td>\n",
              "      <td>I purchased this utility knife for work and it...</td>\n",
              "      <td>0</td>\n",
              "    </tr>\n",
              "    <tr>\n",
              "      <th>74080</th>\n",
              "      <td>74080</td>\n",
              "      <td>I got a pair in red and they really complement...</td>\n",
              "      <td>4</td>\n",
              "    </tr>\n",
              "  </tbody>\n",
              "</table>\n",
              "<p>74081 rows × 3 columns</p>\n",
              "</div>\n",
              "      <button class=\"colab-df-convert\" onclick=\"convertToInteractive('df-6ce118f3-65d9-4ed9-83fb-02824bd8e4d1')\"\n",
              "              title=\"Convert this dataframe to an interactive table.\"\n",
              "              style=\"display:none;\">\n",
              "        \n",
              "  <svg xmlns=\"http://www.w3.org/2000/svg\" height=\"24px\"viewBox=\"0 0 24 24\"\n",
              "       width=\"24px\">\n",
              "    <path d=\"M0 0h24v24H0V0z\" fill=\"none\"/>\n",
              "    <path d=\"M18.56 5.44l.94 2.06.94-2.06 2.06-.94-2.06-.94-.94-2.06-.94 2.06-2.06.94zm-11 1L8.5 8.5l.94-2.06 2.06-.94-2.06-.94L8.5 2.5l-.94 2.06-2.06.94zm10 10l.94 2.06.94-2.06 2.06-.94-2.06-.94-.94-2.06-.94 2.06-2.06.94z\"/><path d=\"M17.41 7.96l-1.37-1.37c-.4-.4-.92-.59-1.43-.59-.52 0-1.04.2-1.43.59L10.3 9.45l-7.72 7.72c-.78.78-.78 2.05 0 2.83L4 21.41c.39.39.9.59 1.41.59.51 0 1.02-.2 1.41-.59l7.78-7.78 2.81-2.81c.8-.78.8-2.07 0-2.86zM5.41 20L4 18.59l7.72-7.72 1.47 1.35L5.41 20z\"/>\n",
              "  </svg>\n",
              "      </button>\n",
              "      \n",
              "  <style>\n",
              "    .colab-df-container {\n",
              "      display:flex;\n",
              "      flex-wrap:wrap;\n",
              "      gap: 12px;\n",
              "    }\n",
              "\n",
              "    .colab-df-convert {\n",
              "      background-color: #E8F0FE;\n",
              "      border: none;\n",
              "      border-radius: 50%;\n",
              "      cursor: pointer;\n",
              "      display: none;\n",
              "      fill: #1967D2;\n",
              "      height: 32px;\n",
              "      padding: 0 0 0 0;\n",
              "      width: 32px;\n",
              "    }\n",
              "\n",
              "    .colab-df-convert:hover {\n",
              "      background-color: #E2EBFA;\n",
              "      box-shadow: 0px 1px 2px rgba(60, 64, 67, 0.3), 0px 1px 3px 1px rgba(60, 64, 67, 0.15);\n",
              "      fill: #174EA6;\n",
              "    }\n",
              "\n",
              "    [theme=dark] .colab-df-convert {\n",
              "      background-color: #3B4455;\n",
              "      fill: #D2E3FC;\n",
              "    }\n",
              "\n",
              "    [theme=dark] .colab-df-convert:hover {\n",
              "      background-color: #434B5C;\n",
              "      box-shadow: 0px 1px 3px 1px rgba(0, 0, 0, 0.15);\n",
              "      filter: drop-shadow(0px 1px 2px rgba(0, 0, 0, 0.3));\n",
              "      fill: #FFFFFF;\n",
              "    }\n",
              "  </style>\n",
              "\n",
              "      <script>\n",
              "        const buttonEl =\n",
              "          document.querySelector('#df-6ce118f3-65d9-4ed9-83fb-02824bd8e4d1 button.colab-df-convert');\n",
              "        buttonEl.style.display =\n",
              "          google.colab.kernel.accessAllowed ? 'block' : 'none';\n",
              "\n",
              "        async function convertToInteractive(key) {\n",
              "          const element = document.querySelector('#df-6ce118f3-65d9-4ed9-83fb-02824bd8e4d1');\n",
              "          const dataTable =\n",
              "            await google.colab.kernel.invokeFunction('convertToInteractive',\n",
              "                                                     [key], {});\n",
              "          if (!dataTable) return;\n",
              "\n",
              "          const docLinkHtml = 'Like what you see? Visit the ' +\n",
              "            '<a target=\"_blank\" href=https://colab.research.google.com/notebooks/data_table.ipynb>data table notebook</a>'\n",
              "            + ' to learn more about interactive tables.';\n",
              "          element.innerHTML = '';\n",
              "          dataTable['output_type'] = 'display_data';\n",
              "          await google.colab.output.renderOutput(dataTable, element);\n",
              "          const docLink = document.createElement('div');\n",
              "          docLink.innerHTML = docLinkHtml;\n",
              "          element.appendChild(docLink);\n",
              "        }\n",
              "      </script>\n",
              "    </div>\n",
              "  </div>\n",
              "  "
            ],
            "text/plain": [
              "          id                                             Review  \\\n",
              "0          0  Bought for a Smith and Wesson M&P15 fits perfe...   \n",
              "1          1  Beware of the charts listed on Butler Creek's ...   \n",
              "2          2  I've only used this once to sight in a scope. ...   \n",
              "3          3  I need more of these!!! This thing makes shoot...   \n",
              "4          4  Grabber Outdoors Original Space Brand Sportsma...   \n",
              "...      ...                                                ...   \n",
              "74076  74076  My first foray into the electronic  earmuff re...   \n",
              "74077  74077  The Callaway Hex Chrome Golf Ball is a nice pr...   \n",
              "74078  74078  Got these beanies for my husband and brother. ...   \n",
              "74079  74079  I purchased this utility knife for work and it...   \n",
              "74080  74080  I got a pair in red and they really complement...   \n",
              "\n",
              "       predicted_overall  \n",
              "0                      2  \n",
              "1                      4  \n",
              "2                      3  \n",
              "3                      4  \n",
              "4                      4  \n",
              "...                  ...  \n",
              "74076                  4  \n",
              "74077                  4  \n",
              "74078                  4  \n",
              "74079                  0  \n",
              "74080                  4  \n",
              "\n",
              "[74081 rows x 3 columns]"
            ]
          },
          "execution_count": 33,
          "metadata": {},
          "output_type": "execute_result"
        }
      ],
      "source": [
        "test_data"
      ]
    },
    {
      "cell_type": "code",
      "execution_count": null,
      "metadata": {
        "id": "uIOkqALXxwTY"
      },
      "outputs": [],
      "source": [
        "report = classification_report(y_pred_class, y_pred_class.round())"
      ]
    },
    {
      "cell_type": "code",
      "execution_count": null,
      "metadata": {
        "id": "O9dnGN8Gzi9s"
      },
      "outputs": [],
      "source": []
    },
    {
      "cell_type": "code",
      "execution_count": null,
      "metadata": {
        "colab": {
          "base_uri": "https://localhost:8080/"
        },
        "id": "E1HvFdTlzvBk",
        "outputId": "afeec50c-d404-46e9-fddd-f759374c1e3c"
      },
      "outputs": [
        {
          "name": "stdout",
          "output_type": "stream",
          "text": [
            "              precision    recall  f1-score   support\n",
            "\n",
            "           0       1.00      1.00      1.00       735\n",
            "           1       1.00      1.00      1.00       599\n",
            "           2       1.00      1.00      1.00      8167\n",
            "           3       1.00      1.00      1.00     17289\n",
            "           4       1.00      1.00      1.00     47291\n",
            "\n",
            "    accuracy                           1.00     74081\n",
            "   macro avg       1.00      1.00      1.00     74081\n",
            "weighted avg       1.00      1.00      1.00     74081\n",
            "\n"
          ]
        }
      ],
      "source": [
        "print(report)"
      ]
    },
    {
      "cell_type": "code",
      "execution_count": null,
      "metadata": {
        "id": "vOica5Yg1aZS"
      },
      "outputs": [],
      "source": [
        "report = classification_report(y_test, y_test.round())"
      ]
    },
    {
      "cell_type": "code",
      "execution_count": null,
      "metadata": {
        "colab": {
          "base_uri": "https://localhost:8080/"
        },
        "id": "j_RyJp1B1tkg",
        "outputId": "f5b51ea8-11da-4982-cf4a-afaa6078a9ab"
      },
      "outputs": [
        {
          "name": "stdout",
          "output_type": "stream",
          "text": [
            "              precision    recall  f1-score   support\n",
            "\n",
            "           0       1.00      1.00      1.00        67\n",
            "           1       1.00      1.00      1.00        62\n",
            "           2       1.00      1.00      1.00       162\n",
            "           3       1.00      1.00      1.00       428\n",
            "           4       1.00      1.00      1.00      1281\n",
            "\n",
            "   micro avg       1.00      1.00      1.00      2000\n",
            "   macro avg       1.00      1.00      1.00      2000\n",
            "weighted avg       1.00      1.00      1.00      2000\n",
            " samples avg       1.00      1.00      1.00      2000\n",
            "\n"
          ]
        }
      ],
      "source": [
        "print(report)"
      ]
    },
    {
      "cell_type": "code",
      "execution_count": null,
      "metadata": {
        "colab": {
          "base_uri": "https://localhost:8080/"
        },
        "id": "tqPUda_31v9J",
        "outputId": "bb969081-237c-46e1-cdb9-ff56dfcb6d8d"
      },
      "outputs": [
        {
          "name": "stdout",
          "output_type": "stream",
          "text": [
            "Mounted at /content/drive\n"
          ]
        }
      ],
      "source": [
        "from google.colab import drive\n",
        "drive.mount('/content/drive')"
      ]
    },
    {
      "cell_type": "markdown",
      "source": [
        "## Topic Modeling"
      ],
      "metadata": {
        "id": "8VzRD9CeJ0Bc"
      }
    },
    {
      "cell_type": "code",
      "execution_count": null,
      "metadata": {
        "id": "2oKSdBszzGja"
      },
      "outputs": [],
      "source": [
        "import pandas as pd"
      ]
    },
    {
      "cell_type": "code",
      "execution_count": null,
      "metadata": {
        "id": "ditnxoPAzGjb"
      },
      "outputs": [],
      "source": [
        "train = pd.read_csv('/content/drive/MyDrive/train.csv')\n",
        "train = train.sample(n=10000)"
      ]
    },
    {
      "cell_type": "code",
      "execution_count": null,
      "metadata": {
        "colab": {
          "base_uri": "https://localhost:8080/",
          "height": 423
        },
        "id": "xPBLu804zGjb",
        "outputId": "f7b08b19-aa22-4448-d9c6-67d1487110d2"
      },
      "outputs": [
        {
          "data": {
            "text/html": [
              "\n",
              "  <div id=\"df-bece1278-5c2c-45f4-ac27-b5e6f4c63488\">\n",
              "    <div class=\"colab-df-container\">\n",
              "      <div>\n",
              "<style scoped>\n",
              "    .dataframe tbody tr th:only-of-type {\n",
              "        vertical-align: middle;\n",
              "    }\n",
              "\n",
              "    .dataframe tbody tr th {\n",
              "        vertical-align: top;\n",
              "    }\n",
              "\n",
              "    .dataframe thead th {\n",
              "        text-align: right;\n",
              "    }\n",
              "</style>\n",
              "<table border=\"1\" class=\"dataframe\">\n",
              "  <thead>\n",
              "    <tr style=\"text-align: right;\">\n",
              "      <th></th>\n",
              "      <th>overall</th>\n",
              "      <th>Review</th>\n",
              "    </tr>\n",
              "  </thead>\n",
              "  <tbody>\n",
              "    <tr>\n",
              "      <th>84241</th>\n",
              "      <td>5</td>\n",
              "      <td>I have found more uses for this stuff than I w...</td>\n",
              "    </tr>\n",
              "    <tr>\n",
              "      <th>9263</th>\n",
              "      <td>5</td>\n",
              "      <td>I recently became reacquainted with mountain b...</td>\n",
              "    </tr>\n",
              "    <tr>\n",
              "      <th>122218</th>\n",
              "      <td>5</td>\n",
              "      <td>Great clear scope. Needs either a riser of abo...</td>\n",
              "    </tr>\n",
              "    <tr>\n",
              "      <th>35020</th>\n",
              "      <td>5</td>\n",
              "      <td>This Oil is the tried and true from times past...</td>\n",
              "    </tr>\n",
              "    <tr>\n",
              "      <th>51143</th>\n",
              "      <td>5</td>\n",
              "      <td>I had on my bike so I bought for my wife who c...</td>\n",
              "    </tr>\n",
              "    <tr>\n",
              "      <th>...</th>\n",
              "      <td>...</td>\n",
              "      <td>...</td>\n",
              "    </tr>\n",
              "    <tr>\n",
              "      <th>190091</th>\n",
              "      <td>5</td>\n",
              "      <td>this knife is the the best blade i have ever h...</td>\n",
              "    </tr>\n",
              "    <tr>\n",
              "      <th>124608</th>\n",
              "      <td>4</td>\n",
              "      <td>It holds my polar insulated 20oz perfect. Simp...</td>\n",
              "    </tr>\n",
              "    <tr>\n",
              "      <th>56460</th>\n",
              "      <td>5</td>\n",
              "      <td>If you can find a better scope for 14 dollars,...</td>\n",
              "    </tr>\n",
              "    <tr>\n",
              "      <th>2853</th>\n",
              "      <td>2</td>\n",
              "      <td>While I do like its design, the quality is ano...</td>\n",
              "    </tr>\n",
              "    <tr>\n",
              "      <th>129080</th>\n",
              "      <td>5</td>\n",
              "      <td>Bought this to match my 9130 surplus rifle. Ap...</td>\n",
              "    </tr>\n",
              "  </tbody>\n",
              "</table>\n",
              "<p>10000 rows × 2 columns</p>\n",
              "</div>\n",
              "      <button class=\"colab-df-convert\" onclick=\"convertToInteractive('df-bece1278-5c2c-45f4-ac27-b5e6f4c63488')\"\n",
              "              title=\"Convert this dataframe to an interactive table.\"\n",
              "              style=\"display:none;\">\n",
              "        \n",
              "  <svg xmlns=\"http://www.w3.org/2000/svg\" height=\"24px\"viewBox=\"0 0 24 24\"\n",
              "       width=\"24px\">\n",
              "    <path d=\"M0 0h24v24H0V0z\" fill=\"none\"/>\n",
              "    <path d=\"M18.56 5.44l.94 2.06.94-2.06 2.06-.94-2.06-.94-.94-2.06-.94 2.06-2.06.94zm-11 1L8.5 8.5l.94-2.06 2.06-.94-2.06-.94L8.5 2.5l-.94 2.06-2.06.94zm10 10l.94 2.06.94-2.06 2.06-.94-2.06-.94-.94-2.06-.94 2.06-2.06.94z\"/><path d=\"M17.41 7.96l-1.37-1.37c-.4-.4-.92-.59-1.43-.59-.52 0-1.04.2-1.43.59L10.3 9.45l-7.72 7.72c-.78.78-.78 2.05 0 2.83L4 21.41c.39.39.9.59 1.41.59.51 0 1.02-.2 1.41-.59l7.78-7.78 2.81-2.81c.8-.78.8-2.07 0-2.86zM5.41 20L4 18.59l7.72-7.72 1.47 1.35L5.41 20z\"/>\n",
              "  </svg>\n",
              "      </button>\n",
              "      \n",
              "  <style>\n",
              "    .colab-df-container {\n",
              "      display:flex;\n",
              "      flex-wrap:wrap;\n",
              "      gap: 12px;\n",
              "    }\n",
              "\n",
              "    .colab-df-convert {\n",
              "      background-color: #E8F0FE;\n",
              "      border: none;\n",
              "      border-radius: 50%;\n",
              "      cursor: pointer;\n",
              "      display: none;\n",
              "      fill: #1967D2;\n",
              "      height: 32px;\n",
              "      padding: 0 0 0 0;\n",
              "      width: 32px;\n",
              "    }\n",
              "\n",
              "    .colab-df-convert:hover {\n",
              "      background-color: #E2EBFA;\n",
              "      box-shadow: 0px 1px 2px rgba(60, 64, 67, 0.3), 0px 1px 3px 1px rgba(60, 64, 67, 0.15);\n",
              "      fill: #174EA6;\n",
              "    }\n",
              "\n",
              "    [theme=dark] .colab-df-convert {\n",
              "      background-color: #3B4455;\n",
              "      fill: #D2E3FC;\n",
              "    }\n",
              "\n",
              "    [theme=dark] .colab-df-convert:hover {\n",
              "      background-color: #434B5C;\n",
              "      box-shadow: 0px 1px 3px 1px rgba(0, 0, 0, 0.15);\n",
              "      filter: drop-shadow(0px 1px 2px rgba(0, 0, 0, 0.3));\n",
              "      fill: #FFFFFF;\n",
              "    }\n",
              "  </style>\n",
              "\n",
              "      <script>\n",
              "        const buttonEl =\n",
              "          document.querySelector('#df-bece1278-5c2c-45f4-ac27-b5e6f4c63488 button.colab-df-convert');\n",
              "        buttonEl.style.display =\n",
              "          google.colab.kernel.accessAllowed ? 'block' : 'none';\n",
              "\n",
              "        async function convertToInteractive(key) {\n",
              "          const element = document.querySelector('#df-bece1278-5c2c-45f4-ac27-b5e6f4c63488');\n",
              "          const dataTable =\n",
              "            await google.colab.kernel.invokeFunction('convertToInteractive',\n",
              "                                                     [key], {});\n",
              "          if (!dataTable) return;\n",
              "\n",
              "          const docLinkHtml = 'Like what you see? Visit the ' +\n",
              "            '<a target=\"_blank\" href=https://colab.research.google.com/notebooks/data_table.ipynb>data table notebook</a>'\n",
              "            + ' to learn more about interactive tables.';\n",
              "          element.innerHTML = '';\n",
              "          dataTable['output_type'] = 'display_data';\n",
              "          await google.colab.output.renderOutput(dataTable, element);\n",
              "          const docLink = document.createElement('div');\n",
              "          docLink.innerHTML = docLinkHtml;\n",
              "          element.appendChild(docLink);\n",
              "        }\n",
              "      </script>\n",
              "    </div>\n",
              "  </div>\n",
              "  "
            ],
            "text/plain": [
              "        overall                                             Review\n",
              "84241         5  I have found more uses for this stuff than I w...\n",
              "9263          5  I recently became reacquainted with mountain b...\n",
              "122218        5  Great clear scope. Needs either a riser of abo...\n",
              "35020         5  This Oil is the tried and true from times past...\n",
              "51143         5  I had on my bike so I bought for my wife who c...\n",
              "...         ...                                                ...\n",
              "190091        5  this knife is the the best blade i have ever h...\n",
              "124608        4  It holds my polar insulated 20oz perfect. Simp...\n",
              "56460         5  If you can find a better scope for 14 dollars,...\n",
              "2853          2  While I do like its design, the quality is ano...\n",
              "129080        5  Bought this to match my 9130 surplus rifle. Ap...\n",
              "\n",
              "[10000 rows x 2 columns]"
            ]
          },
          "execution_count": 5,
          "metadata": {},
          "output_type": "execute_result"
        }
      ],
      "source": [
        "train"
      ]
    },
    {
      "cell_type": "code",
      "execution_count": null,
      "metadata": {
        "colab": {
          "base_uri": "https://localhost:8080/"
        },
        "id": "bLxeNGwKzGjb",
        "outputId": "61de3674-cc9f-4236-9fac-a8256422a914"
      },
      "outputs": [
        {
          "name": "stderr",
          "output_type": "stream",
          "text": [
            "[nltk_data] Downloading package stopwords to /root/nltk_data...\n",
            "[nltk_data]   Unzipping corpora/stopwords.zip.\n"
          ]
        }
      ],
      "source": [
        "import pandas as pd\n",
        "import numpy as np\n",
        "import re\n",
        "import nltk\n",
        "from nltk.corpus import stopwords\n",
        "from sklearn.feature_extraction.text import CountVectorizer\n",
        "from sklearn.decomposition import LatentDirichletAllocation\n",
        "from sklearn.feature_extraction.text import CountVectorizer\n",
        "import pandas as pd\n",
        "\n",
        "\n",
        "# Preprocessing the data\n",
        "nltk.download('stopwords')\n",
        "stop_words = set(stopwords.words('english'))\n",
        "\n",
        "def preprocess(text):\n",
        "    text = re.sub(r'[^\\w\\s]', '', text.lower().strip()) # remove punctuation and convert to lowercase\n",
        "    text = re.sub(r'\\s+', ' ', text) # remove extra whitespaces\n",
        "    text = ' '.join([word for word in text.split() if word not in stop_words]) # remove stop words\n",
        "    return text\n",
        "\n",
        "train['preprocessed_review'] = train['Review'].apply(preprocess)"
      ]
    },
    {
      "cell_type": "code",
      "execution_count": null,
      "metadata": {
        "colab": {
          "base_uri": "https://localhost:8080/"
        },
        "id": "McqkZVIFzGjc",
        "outputId": "61554adb-d845-467d-c614-8070420169d3"
      },
      "outputs": [
        {
          "name": "stdout",
          "output_type": "stream",
          "text": [
            "Top 10 words for Topic #0:\n",
            "['water', 'fit', 'comfortable', 'bit', 'real', 'cold', 'feel', 'cover', 'cap', 'wear']\n",
            "\n",
            "\n",
            "Top 10 words for Topic #1:\n",
            "['knife', 'blade', 'good', 'sharp', 'handle', 'knives', 'steel', 'sheath', 'edge', 'value']\n",
            "\n",
            "\n",
            "Top 10 words for Topic #2:\n",
            "['scope', 'bottle', 'gun', 'holster', 'belt', 'water', 'watch', 'pump', 'great', 'pistol']\n",
            "\n",
            "\n",
            "Top 10 words for Topic #3:\n",
            "['great', 'bag', 'size', 'perfect', 'fit', 'large', 'price', 'small', 'looking', 'nice']\n",
            "\n",
            "\n",
            "Top 10 words for Topic #4:\n",
            "['product', 'good', 'quality', 'great', 'price', 'bought', 'buy', 'like', 'item', 'years']\n",
            "\n",
            "\n",
            "Top 10 words for Topic #5:\n",
            "['great', 'works', 'good', 'work', 'use', 'like', 'works great', 'product', 'little', 'pretty']\n",
            "\n",
            "\n",
            "Top 10 words for Topic #6:\n",
            "['tool', 'pack', 'target', 'gloves', 'pocket', 'tools', 'straps', 'fits', 'trigger', 'laser']\n",
            "\n",
            "\n",
            "Top 10 words for Topic #7:\n",
            "['easy', 'use', 'set', 'mount', 'sight', 'rifle', 'time', 'range', 'install', 'work']\n",
            "\n",
            "\n",
            "Top 10 words for Topic #8:\n",
            "['light', 'like', 'dont', 'use', 'im', 'really', 'thing', 'time', 'used', 'ive']\n",
            "\n",
            "\n",
            "Top 10 words for Topic #9:\n",
            "['bike', 'good', 'case', 'money', 'price', 'kit', 'cleaning', 'use', 'great', 'buy']\n",
            "\n",
            "\n"
          ]
        }
      ],
      "source": [
        "# Vectorizing the text data\n",
        "vectorizer = CountVectorizer(stop_words='english', max_df=0.95, min_df=2, max_features=1000, ngram_range=(1, 2))\n",
        "X = vectorizer.fit_transform(train['preprocessed_review'])\n",
        "\n",
        "# Extracting feature names\n",
        "feature_names = vectorizer.get_feature_names_out()\n",
        "\n",
        "# Training the LDA model\n",
        "lda_model = LatentDirichletAllocation(n_components=10, learning_method='online', random_state=42)\n",
        "lda_model.fit(X)\n",
        "\n",
        "# Printing the topics\n",
        "for topic_idx, topic in enumerate(lda_model.components_):\n",
        "    print(f'Top 10 words for Topic #{topic_idx}:')\n",
        "    print([feature_names[i] for i in topic.argsort()[:-11:-1]])\n",
        "    print('\\n')\n"
      ]
    },
    {
      "cell_type": "code",
      "execution_count": null,
      "metadata": {
        "id": "D6NIvviBzGjc"
      },
      "outputs": [],
      "source": [
        "topics = lda_model.transform(X)\n",
        "topics_dict = {i: f'Topic {i}' for i in range(10)}\n",
        "map_topic = np.vectorize(topics_dict.get)\n",
        "train['Topic'] = map_topic(topics.argmax(axis=1)).astype(str)\n",
        "\n",
        "\n",
        "# Saving the preprocessed and topic-assigned data to a new CSV file\n",
        "train[['overall', 'Review', 'Topic']].to_csv('/content/drive/MyDrive/processed_train.csv', index=False)"
      ]
    },
    {
      "cell_type": "code",
      "execution_count": null,
      "metadata": {
        "colab": {
          "base_uri": "https://localhost:8080/"
        },
        "id": "vewA7kKlzGjc",
        "outputId": "40273634-82bd-4156-9987-205d738ef720"
      },
      "outputs": [
        {
          "name": "stdout",
          "output_type": "stream",
          "text": [
            "   overall                                             Review    Topic\n",
            "0        5  I have found more uses for this stuff than I w...  Topic 3\n",
            "1        5  I recently became reacquainted with mountain b...  Topic 0\n",
            "2        5  Great clear scope. Needs either a riser of abo...  Topic 2\n",
            "3        5  This Oil is the tried and true from times past...  Topic 5\n",
            "4        5  I had on my bike so I bought for my wife who c...  Topic 4\n"
          ]
        }
      ],
      "source": [
        "\n",
        "processed_train = pd.read_csv('/content/drive/MyDrive/processed_train.csv')\n",
        "print(processed_train.head())"
      ]
    },
    {
      "cell_type": "code",
      "execution_count": null,
      "metadata": {
        "id": "eoc3omKlzGjc"
      },
      "outputs": [],
      "source": [
        "import matplotlib.pyplot as plt"
      ]
    },
    {
      "cell_type": "code",
      "execution_count": null,
      "metadata": {
        "id": "pKIERCFW1nVw"
      },
      "outputs": [],
      "source": [
        "import seaborn as sns"
      ]
    },
    {
      "cell_type": "code",
      "execution_count": null,
      "metadata": {
        "colab": {
          "base_uri": "https://localhost:8080/",
          "height": 472
        },
        "id": "6v8V3lVZzGjc",
        "outputId": "7d58582a-10f4-4f53-93ce-d76b8bc4f4ba"
      },
      "outputs": [
        {
          "data": {
            "image/png": "[encoded data removed]",
            "text/plain": [
              "<Figure size 640x480 with 1 Axes>"
            ]
          },
          "metadata": {},
          "output_type": "display_data"
        }
      ],
      "source": [
        "# Calculate the topic distribution across all reviews\n",
        "topic_dist = processed_train['Topic'].str.replace('Topic ', '').astype(int).value_counts(normalize=True).sort_index()\n",
        "\n",
        "\n",
        "# Create a bar plot of the topic distribution\n",
        "sns.barplot(x=list(range(10)), y=topic_dist)\n",
        "plt.xlabel('Topic')\n",
        "plt.ylabel('Proportion')\n",
        "plt.title('Topic Distribution')\n",
        "plt.show()\n"
      ]
    }
  ],
  "metadata": {
    "accelerator": "GPU",
    "colab": {
      "provenance": []
    },
    "gpuClass": "standard",
    "kernelspec": {
      "display_name": "Python 3 (ipykernel)",
      "language": "python",
      "name": "python3"
    },
    "language_info": {
      "codemirror_mode": {
        "name": "ipython",
        "version": 3
      },
      "file_extension": ".py",
      "mimetype": "text/x-python",
      "name": "python",
      "nbconvert_exporter": "python",
      "pygments_lexer": "ipython3",
      "version": "3.9.13"
    },
    "vscode": {
      "interpreter": {
        "hash": "6c78e6a9dc71c2a349b70a61c45fc4b89c78526936d67b4c49b83d06de5562d8"
      }
    }
  },
  "nbformat": 4,
  "nbformat_minor": 0
}